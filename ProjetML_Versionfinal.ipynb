{
  "cells": [
    {
      "cell_type": "code",
      "execution_count": 6,
      "metadata": {
        "id": "wI9-Ng3GXOvO"
      },
      "outputs": [
        {
          "name": "stderr",
          "output_type": "stream",
          "text": [
            "C:\\Users\\User\\AppData\\Local\\Temp\\ipykernel_8804\\2642756118.py:3: DeprecationWarning: Please use `shift` from the `scipy.ndimage` namespace, the `scipy.ndimage.interpolation` namespace is deprecated.\n",
            "  from scipy.ndimage.interpolation import shift\n",
            "d:\\cours\\pds\\jupvenv\\lib\\site-packages\\sklearn\\datasets\\_openml.py:1022: FutureWarning: The default value of `parser` will change from `'liac-arff'` to `'auto'` in 1.4. You can set `parser='auto'` to silence this warning. Therefore, an `ImportError` will be raised from 1.4 if the dataset is dense and pandas is not installed. Note that the pandas parser may return different data types. See the Notes Section in fetch_openml's API doc for details.\n",
            "  warn(\n"
          ]
        }
      ],
      "source": [
        "import numpy as np\n",
        "import matplotlib\n",
        "from scipy.ndimage.interpolation import shift\n",
        "import matplotlib.pyplot as plt\n",
        "from sklearn.datasets import fetch_openml\n",
        "\n",
        "mnist=fetch_openml('mnist_784')"
      ]
    },
    {
      "cell_type": "code",
      "execution_count": 7,
      "metadata": {
        "id": "fIYexsFTXgL2"
      },
      "outputs": [],
      "source": [
        "def plot_digit(data):\n",
        "    image = data.reshape(28, 28)\n",
        "    plt.imshow(image, cmap = matplotlib.cm.binary,\n",
        "               interpolation=\"nearest\")\n",
        "    plt.axis(\"off\")"
      ]
    },
    {
      "cell_type": "code",
      "execution_count": 8,
      "metadata": {
        "id": "nAEUbsD3XlP9"
      },
      "outputs": [],
      "source": [
        "def shift_image(image, dx, dy):\n",
        "    image = image.reshape((28, 28))\n",
        "    shifted_image = shift(image, [dy, dx], cval=0, mode=\"constant\")\n",
        "    return shifted_image.reshape([-1])"
      ]
    },
    {
      "cell_type": "code",
      "execution_count": 10,
      "metadata": {
        "id": "SofnAN4-M4x-"
      },
      "outputs": [],
      "source": [
        "import numpy as np\n",
        "from scipy.ndimage import zoom\n",
        "\n",
        "\n",
        "def clipped_zoom(img, zoom_factor, **kwargs):\n",
        "    img = img.reshape((28, 28))\n",
        "    h, w = 28 , 28\n",
        "\n",
        "    # For multichannel images we don't want to apply the zoom factor to the RGB\n",
        "    # dimension, so instead we create a tuple of zoom factors, one per array\n",
        "    # dimension, with 1's for any trailing dimensions after the width and height.\n",
        "    zoom_tuple = (zoom_factor,) * 2 + (1,) * (img.ndim - 2)\n",
        "\n",
        "    # Zooming out\n",
        "    if zoom_factor < 1:\n",
        "\n",
        "        # Bounding box of the zoomed-out image within the output array\n",
        "        zh = int(np.round(h * zoom_factor))\n",
        "        zw = int(np.round(w * zoom_factor))\n",
        "        top = (h - zh) // 2\n",
        "        left = (w - zw) // 2\n",
        "\n",
        "        # Zero-padding\n",
        "        out = np.zeros_like(img)\n",
        "        out[top:top+zh, left:left+zw] = zoom(img, zoom_tuple, **kwargs)\n",
        "\n",
        "    # Zooming in\n",
        "    elif zoom_factor > 1:\n",
        "\n",
        "        # Bounding box of the zoomed-in region within the input array\n",
        "        zh = int(np.round(h / zoom_factor))\n",
        "        zw = int(np.round(w / zoom_factor))\n",
        "        top = (h - zh) // 2\n",
        "        left = (w - zw) // 2\n",
        "\n",
        "        out = zoom(img[top:top+zh, left:left+zw], zoom_tuple, **kwargs)\n",
        "\n",
        "        # `out` might still be slightly larger than `img` due to rounding, so\n",
        "        # trim off any extra pixels at the edges\n",
        "        trim_top = ((out.shape[0] - h) // 2)\n",
        "        trim_left = ((out.shape[1] - w) // 2)\n",
        "        out = out[trim_top:trim_top+h, trim_left:trim_left+w]\n",
        "\n",
        "    # If zoom_factor == 1, just return the input array\n",
        "    else:\n",
        "        out = img\n",
        "    return out"
      ]
    },
    {
      "cell_type": "code",
      "execution_count": 11,
      "metadata": {
        "id": "f160JqxrXlS7"
      },
      "outputs": [],
      "source": [
        "def rotate_image(image,ang):\n",
        "  image = image.reshape((28, 28))\n",
        "  from scipy.ndimage.interpolation import rotate\n",
        "  rotated = rotate(image, angle=ang,reshape=False)\n",
        "\n",
        "  #shifted_image = np.rot90(image)\n",
        "  return rotated.reshape([-1])"
      ]
    },
    {
      "cell_type": "code",
      "execution_count": 12,
      "metadata": {
        "id": "q4kZX5BmXlVU"
      },
      "outputs": [
        {
          "name": "stderr",
          "output_type": "stream",
          "text": [
            "C:\\Users\\User\\AppData\\Local\\Temp\\ipykernel_8804\\2159934768.py:1: DeprecationWarning: Please use `gaussian_filter` from the `scipy.ndimage` namespace, the `scipy.ndimage.filters` namespace is deprecated.\n",
            "  from scipy.ndimage.filters import gaussian_filter\n"
          ]
        }
      ],
      "source": [
        "from scipy.ndimage.filters import gaussian_filter\n",
        "def blurg(image,sigm):\n",
        "  blurred = gaussian_filter(image, sigma=sigm)\n",
        "  return blurred\n"
      ]
    },
    {
      "cell_type": "code",
      "execution_count": 13,
      "metadata": {
        "colab": {
          "base_uri": "https://localhost:8080/"
        },
        "id": "x_V8AeLZXlX9",
        "outputId": "9cf4a5ec-d525-4f4c-d35d-62dd3fb864f3"
      },
      "outputs": [
        {
          "name": "stdout",
          "output_type": "stream",
          "text": [
            "70000\n"
          ]
        }
      ],
      "source": [
        "X, y = mnist [\"data\"] , mnist [\"target\"]\n",
        "\n",
        "X=np.array(X);\n",
        "y=np.array(y);\n",
        "image = X[34055]\n",
        "print(len(y))"
      ]
    },
    {
      "cell_type": "code",
      "execution_count": 14,
      "metadata": {
        "colab": {
          "base_uri": "https://localhost:8080/"
        },
        "id": "d1j44uXCpWsn",
        "outputId": "78af5dac-7594-49e4-a58a-6189603a5898"
      },
      "outputs": [
        {
          "name": "stdout",
          "output_type": "stream",
          "text": [
            "60000\n"
          ]
        }
      ],
      "source": [
        "X_train , X_test , y_train , y_test = X[:60000] ,X[60000:] ,y[:60000] ,y[60000:]\n",
        "print(len(X_train))\n",
        "X_train=np.array(X_train)\n",
        "y_train=np.array(y_train)\n",
        "shuffle_idx =np.random.permutation(len (X_train))\n",
        "X_train = X_train[shuffle_idx]\n",
        "y_train = y_train[shuffle_idx]"
      ]
    },
    {
      "cell_type": "code",
      "execution_count": 15,
      "metadata": {
        "colab": {
          "base_uri": "https://localhost:8080/"
        },
        "id": "Tir0kwRxqKl2",
        "outputId": "1825311d-d3ef-452c-ecf8-69d56f722903"
      },
      "outputs": [
        {
          "name": "stdout",
          "output_type": "stream",
          "text": [
            "score  knn Avant entrainement 0.9691\n",
            "9691\n",
            "lknn [115, 195, 241, 268, 300, 320, 321, 341, 358, 381, 412, 444, 445, 447, 464, 479, 495, 551, 578, 582, 583, 593, 646, 684, 689, 717, 726, 740, 839, 844, 881, 924, 938, 939, 947, 951, 956, 957, 1014, 1039, 1068, 1082, 1089, 1107, 1112, 1114, 1192, 1226, 1232, 1242, 1247, 1260, 1299, 1319, 1325, 1364, 1422, 1425, 1465, 1500, 1522, 1527, 1530, 1559, 1626, 1681, 1695, 1709, 1721, 1737, 1754, 1774, 1782, 1790, 1865, 1878, 1901, 1955, 1970, 1984, 2044, 2052, 2058, 2063, 2093, 2098, 2105, 2109, 2118, 2130, 2135, 2168, 2177, 2182, 2224, 2233, 2237, 2272, 2280, 2288, 2293, 2299, 2308, 2314, 2339, 2351, 2387, 2400, 2422, 2430, 2437, 2454, 2457, 2488, 2533, 2582, 2607, 2648, 2654, 2721, 2758, 2810, 2828, 2896, 2927, 2939, 2952, 2953, 3005, 3060, 3062, 3073, 3115, 3117, 3136, 3160, 3176, 3206, 3228, 3229, 3240, 3269, 3323, 3333, 3337, 3369, 3388, 3405, 3422, 3456, 3474, 3475, 3503, 3520, 3558, 3559, 3567, 3597, 3599, 3654, 3662, 3702, 3727, 3742, 3751, 3780, 3796, 3808, 3811, 3838, 3850, 3853, 3893, 3902, 3949, 3968, 3976, 4017, 4065, 4078, 4124, 4140, 4163, 4176, 4194, 4199, 4201, 4224, 4289, 4306, 4313, 4314, 4317, 4330, 4341, 4355, 4356, 4359, 4400, 4429, 4435, 4497, 4500, 4505, 4573, 4575, 4665, 4690, 4712, 4731, 4737, 4740, 4783, 4807, 4822, 4823, 4837, 4879, 4886, 4911, 4966, 5068, 5176, 5209, 5331, 5586, 5600, 5620, 5639, 5676, 5691, 5698, 5734, 5757, 5835, 5841, 5842, 5887, 5906, 5955, 5973, 5997, 6004, 6011, 6023, 6035, 6059, 6071, 6081, 6091, 6160, 6166, 6172, 6542, 6555, 6574, 6597, 6614, 6651, 6721, 6755, 6813, 7121, 7233, 7434, 7473, 7492, 7597, 7842, 7850, 8059, 8061, 8112, 8277, 8279, 8296, 8316, 8406, 8408, 8416, 8520, 8527, 9009, 9015, 9019, 9280, 9613, 9629, 9634, 9636, 9642, 9655, 9664, 9669, 9729, 9745, 9768, 9779, 9808, 9811, 9835, 9839, 9850, 9867, 9879, 9883, 9904, 9905, 9982]\n",
            "score knn avant entrainement:  0.9691\n"
          ]
        }
      ],
      "source": [
        "from sklearn.neighbors import KNeighborsClassifier\n",
        "from sklearn import metrics\n",
        "knn = KNeighborsClassifier(n_neighbors=1)\n",
        "knn.fit(X_train, y_train)\n",
        "y_predict = knn.predict(X_test)\n",
        "from sklearn.metrics import accuracy_score\n",
        "print(\"score  knn Avant entrainement\", accuracy_score(y_test, y_predict))\n",
        "lknn=[]\n",
        "count=0\n",
        "for i in range(len(y_predict)):\n",
        "  if y_predict[i]==y_test[i]:\n",
        "    count+=1\n",
        "  else:\n",
        "    lknn.append(i)\n",
        "print(count)\n",
        "print('lknn',lknn)\n",
        "print(\"score knn avant entrainement: \",count/len(y_predict))"
      ]
    },
    {
      "cell_type": "code",
      "execution_count": 16,
      "metadata": {
        "colab": {
          "base_uri": "https://localhost:8080/"
        },
        "id": "2FD6NPf6qhKp",
        "outputId": "260bb2aa-d107-4274-be62-163a405f1e1f"
      },
      "outputs": [
        {
          "name": "stdout",
          "output_type": "stream",
          "text": [
            "[[ 973    1    1    0    0    1    3    1    0    0]\n",
            " [   0 1129    3    0    1    1    1    0    0    0]\n",
            " [   7    6  992    5    1    0    2   16    3    0]\n",
            " [   0    1    2  970    1   19    0    7    7    3]\n",
            " [   0    7    0    0  944    0    3    5    1   22]\n",
            " [   1    1    0   12    2  860    5    1    6    4]\n",
            " [   4    2    0    0    3    5  944    0    0    0]\n",
            " [   0   14    6    2    4    0    0  992    0   10]\n",
            " [   6    1    3   14    5   13    3    4  920    5]\n",
            " [   2    5    1    6   10    5    1   11    1  967]]\n"
          ]
        }
      ],
      "source": [
        "from sklearn.metrics import confusion_matrix\n",
        "import numpy as np\n",
        "test_predictions =y_predict\n",
        "\n",
        "\n",
        "\n",
        "cm = confusion_matrix(y_true = y_test, y_pred = test_predictions)\n",
        "print(cm)"
      ]
    },
    {
      "cell_type": "code",
      "execution_count": 17,
      "metadata": {
        "colab": {
          "base_uri": "https://localhost:8080/"
        },
        "id": "JEV3FU_Pq2nC",
        "outputId": "03c95629-f233-486c-e732-e29e8a3cfc4e"
      },
      "outputs": [
        {
          "name": "stdout",
          "output_type": "stream",
          "text": [
            "['7' '2' '1' ... '4' '5' '6']\n",
            "['7' '2' '1' ... '4' '5' '6']\n",
            "10000\n",
            "9699\n",
            "l [124, 142, 241, 247, 259, 268, 290, 320, 321, 340, 381, 403, 445, 448, 449, 479, 495, 578, 582, 628, 646, 659, 684, 691, 707, 717, 720, 740, 839, 844, 900, 924, 938, 947, 950, 951, 956, 965, 1003, 1014, 1062, 1068, 1107, 1112, 1114, 1181, 1192, 1206, 1226, 1232, 1247, 1248, 1260, 1270, 1283, 1299, 1319, 1326, 1337, 1364, 1393, 1425, 1494, 1500, 1522, 1525, 1527, 1530, 1549, 1553, 1559, 1621, 1626, 1681, 1709, 1717, 1737, 1754, 1790, 1850, 1868, 1878, 1901, 1941, 1955, 2016, 2024, 2035, 2043, 2044, 2053, 2070, 2093, 2098, 2109, 2118, 2129, 2130, 2135, 2182, 2186, 2189, 2224, 2266, 2293, 2299, 2358, 2369, 2371, 2381, 2387, 2393, 2406, 2422, 2447, 2488, 2573, 2578, 2597, 2598, 2607, 2648, 2654, 2713, 2771, 2810, 2863, 2896, 2927, 2939, 2953, 2990, 2995, 3005, 3030, 3060, 3073, 3114, 3117, 3146, 3206, 3269, 3330, 3333, 3369, 3384, 3422, 3429, 3475, 3490, 3503, 3520, 3558, 3559, 3597, 3702, 3730, 3742, 3757, 3767, 3776, 3780, 3796, 3808, 3811, 3838, 3853, 3902, 3906, 3926, 3941, 3954, 3985, 4007, 4065, 4075, 4078, 4093, 4140, 4163, 4176, 4201, 4211, 4212, 4224, 4289, 4294, 4300, 4306, 4355, 4360, 4433, 4435, 4477, 4497, 4498, 4500, 4575, 4601, 4639, 4690, 4740, 4761, 4785, 4807, 4823, 4837, 4860, 4874, 4880, 4956, 4966, 4978, 4990, 5067, 5165, 5209, 5246, 5331, 5457, 5642, 5734, 5835, 5887, 5888, 5913, 5936, 5937, 5955, 5972, 5973, 5981, 5985, 6035, 6043, 6065, 6071, 6081, 6091, 6157, 6166, 6172, 6173, 6505, 6560, 6597, 6598, 6603, 6625, 6632, 6641, 6651, 6906, 7094, 7121, 7216, 7432, 7434, 7595, 7797, 7821, 7849, 7858, 7886, 7902, 8020, 8094, 8115, 8279, 8339, 8408, 8410, 8520, 8527, 9009, 9015, 9019, 9024, 9045, 9211, 9587, 9634, 9698, 9716, 9729, 9745, 9749, 9764, 9768, 9770, 9779, 9808, 9811, 9832, 9839, 9888, 9905, 9925, 9944, 9975, 9982]\n",
            "score Random Forest avant entrainement:  0.9699\n"
          ]
        }
      ],
      "source": [
        "from sklearn.ensemble import RandomForestClassifier\n",
        "rf=RandomForestClassifier(n_estimators=100)\n",
        "preds=rf.fit(X_train, y_train)\n",
        "preds=rf.predict(X_test)\n",
        "print(preds)\n",
        "print(y_test)\n",
        "print(len(preds))\n",
        "count=0\n",
        "l=[]\n",
        "for i in range(len(preds)):\n",
        "  if preds[i]==y_test[i]:\n",
        "    count+=1\n",
        "  else:\n",
        "    l.append(i)\n",
        "print(count)\n",
        "print('l',l)\n",
        "print(\"score Random Forest avant entrainement: \",count/len(preds))"
      ]
    },
    {
      "cell_type": "code",
      "execution_count": 18,
      "metadata": {
        "colab": {
          "base_uri": "https://localhost:8080/"
        },
        "id": "Zd96rIdq5rNB",
        "outputId": "921dee8d-20cf-48b6-84e8-9132f5f788aa"
      },
      "outputs": [
        {
          "name": "stdout",
          "output_type": "stream",
          "text": [
            "301\n",
            "309\n"
          ]
        }
      ],
      "source": [
        "print(len(l))\n",
        "print(len(lknn))"
      ]
    },
    {
      "cell_type": "code",
      "execution_count": 19,
      "metadata": {
        "colab": {
          "base_uri": "https://localhost:8080/"
        },
        "id": "oLmpHYTt2vBs",
        "outputId": "dc7a08f2-9727-4e9f-a231-e2ac81265029"
      },
      "outputs": [
        {
          "name": "stdout",
          "output_type": "stream",
          "text": [
            "nombre d'erreur commune 149\n"
          ]
        }
      ],
      "source": [
        "commun=()\n",
        "count=0\n",
        "for i in range(len(l)):\n",
        "  for j in range (len(lknn)):\n",
        "    if l[i]==lknn[j]:\n",
        "      count+=1\n",
        "\n",
        "print(\"nombre d'erreur commune\",count)"
      ]
    },
    {
      "cell_type": "code",
      "execution_count": null,
      "metadata": {
        "colab": {
          "base_uri": "https://localhost:8080/"
        },
        "id": "T2L-G2FurdEc",
        "outputId": "434fc1c9-3898-49f0-dbed-d14e764d101f"
      },
      "outputs": [
        {
          "name": "stdout",
          "output_type": "stream",
          "text": [
            "[[ 969    0    0    0    0    4    3    1    3    0]\n",
            " [   0 1125    2    3    0    1    2    0    1    1]\n",
            " [   6    0  999    5    3    1    4    9    5    0]\n",
            " [   0    0   13  977    0    3    0    9    7    1]\n",
            " [   1    0    1    0  953    0    7    0    2   18]\n",
            " [   3    1    0    9    3  859    6    3    5    3]\n",
            " [   6    3    1    0    4    4  936    0    4    0]\n",
            " [   2    4   19    2    2    0    0  990    2    7]\n",
            " [   4    0    5    6    3    4    6    5  931   10]\n",
            " [   7    4    3   11   15    3    1    4    4  957]]\n"
          ]
        }
      ],
      "source": [
        "from sklearn.metrics import confusion_matrix\n",
        "import numpy as np\n",
        "test_predictions =preds\n",
        "\n",
        "\n",
        "\n",
        "cm = confusion_matrix(y_true = y_test, y_pred = test_predictions)\n",
        "print(cm)"
      ]
    },
    {
      "cell_type": "code",
      "execution_count": 24,
      "metadata": {
        "colab": {
          "base_uri": "https://localhost:8080/",
          "height": 53
        },
        "id": "XBd--UxEXla8",
        "outputId": "71d8ad7d-63b5-4663-d7e4-62e3eb985caa"
      },
      "outputs": [
        {
          "name": "stderr",
          "output_type": "stream",
          "text": [
            "C:\\Users\\User\\AppData\\Local\\Temp\\ipykernel_8804\\4040712786.py:3: DeprecationWarning: Please use `rotate` from the `scipy.ndimage` namespace, the `scipy.ndimage.interpolation` namespace is deprecated.\n",
            "  from scipy.ndimage.interpolation import rotate\n"
          ]
        },
        {
          "data": {
            "text/plain": [
              "'for dx ,dy in ((1,0),(1,0),(0,1),(0,1),(10,0),(10,0),(0,10),(0,10)):\\n  for image , label in zip (X_train , y_train):\\n    a=shift_image( image,dx ,dy)\\n    b=label\\n    for dz in range(11):\\n       c=rotate_image( a,dz)\\n       X_train_augmented.append(blurg(c,1) )\\n       y_train_augmented.append (label )'"
            ]
          },
          "execution_count": 24,
          "metadata": {},
          "output_type": "execute_result"
        }
      ],
      "source": [
        "X_train , X_test , y_train , y_test = X[:3100] ,X[3100:] ,y[:3100] ,y[3100:]\n",
        "\n",
        "X_train_augmented=[image for image in X_train]\n",
        "y_train_augmented=[label for label in y_train]\n",
        "for dx ,dy in ((1,0),(1,0),(0,1),(0,1),(1.5,0),(1.5,0),(0,1.5),(0,1.5)):\n",
        "  for image , label in zip (X_train , y_train):\n",
        "    X_train_augmented.append(shift_image( image,dx ,dy))\n",
        "    y_train_augmented.append (label )\n",
        "\n",
        "for dx in range(20):\n",
        "  for image , label in zip (X_train , y_train):\n",
        "    X_train_augmented.append( rotate_image( image,dx))\n",
        "    y_train_augmented.append (label )\n",
        "    X_train_augmented.append( rotate_image( image,-dx))\n",
        "    y_train_augmented.append (label )\n",
        "\n",
        "for dx ,dy in ((1.8,0),(1.8,0),(0,1.8),(0,1.8)):\n",
        "  for image , label in zip (X_train , y_train):\n",
        "    a=shift_image( image,dx ,dy)\n",
        "    b=label\n",
        "    for dz in range(5):\n",
        "       X_train_augmented.append( rotate_image( a,dz))\n",
        "       y_train_augmented.append (label )\n",
        "\n",
        "for dx in range(1):\n",
        "  for image , label in zip (X_train , y_train):\n",
        "    X_train_augmented.append( blurg( image,dx))\n",
        "    y_train_augmented.append (label )\n",
        "for image , label in zip (X_train , y_train):\n",
        "  X_train_augmented.append( rotate_image( image,20))\n",
        "  y_train_augmented.append (label )\n",
        "  X_train_augmented.append( rotate_image( image,-20))\n",
        "  y_train_augmented.append (label )\n",
        "\"\"\"for dx ,dy in ((1,0),(1,0),(0,1),(0,1),(10,0),(10,0),(0,10),(0,10)):\n",
        "  for image , label in zip (X_train , y_train):\n",
        "    a=shift_image( image,dx ,dy)\n",
        "    b=label\n",
        "    for dz in range(11):\n",
        "       c=rotate_image( a,dz)\n",
        "       X_train_augmented.append(blurg(c,1) )\n",
        "       y_train_augmented.append (label )\"\"\"\n"
      ]
    },
    {
      "cell_type": "code",
      "execution_count": 25,
      "metadata": {
        "colab": {
          "base_uri": "https://localhost:8080/"
        },
        "id": "Baa7RoCtXleY",
        "outputId": "869f344d-d4b0-42d8-8ae9-9fcd8ec4a115"
      },
      "outputs": [
        {
          "name": "stdout",
          "output_type": "stream",
          "text": [
            "223200\n",
            "3100\n"
          ]
        }
      ],
      "source": [
        "print(len(X_train_augmented))\n",
        "print(len(X_train))"
      ]
    },
    {
      "cell_type": "code",
      "execution_count": 26,
      "metadata": {
        "id": "qAuCtqiXYbYt"
      },
      "outputs": [],
      "source": [
        "X_train_augmented=np.array(X_train_augmented)\n",
        "y_train_augmented=np.array(y_train_augmented)\n",
        "shuffle_idx =np.random.permutation(len (X_train_augmented))\n",
        "X_train_augmented = X_train_augmented [shuffle_idx]\n",
        "y_train_augmented = y_train_augmented[shuffle_idx]"
      ]
    },
    {
      "cell_type": "code",
      "execution_count": 27,
      "metadata": {
        "colab": {
          "base_uri": "https://localhost:8080/"
        },
        "id": "04bATpJ6Ybbw",
        "outputId": "5d1009c0-e1cb-4a06-9c3b-d0d984e9db30"
      },
      "outputs": [
        {
          "name": "stdout",
          "output_type": "stream",
          "text": [
            "score aprés knn apres entrainement 0.9428101644245142\n"
          ]
        }
      ],
      "source": [
        "from sklearn.neighbors import KNeighborsClassifier\n",
        "from sklearn import metrics\n",
        "knn = KNeighborsClassifier(n_neighbors=2)\n",
        "knn.fit(X_train_augmented, y_train_augmented)\n",
        "y_predict = knn.predict(X_test)\n",
        "from sklearn.metrics import accuracy_score\n",
        "print(\"score aprés knn apres entrainement\", accuracy_score(y_test, y_predict))\n"
      ]
    },
    {
      "cell_type": "code",
      "execution_count": 28,
      "metadata": {
        "colab": {
          "base_uri": "https://localhost:8080/"
        },
        "id": "Pd694eLR0S_y",
        "outputId": "e6f0fc50-8b13-45b3-ca7f-68b02afb7a93"
      },
      "outputs": [
        {
          "name": "stdout",
          "output_type": "stream",
          "text": [
            "[[6514    7   12    2    4   10   36    7    3   14]\n",
            " [   2 7474   17    1    1    3    7   20    1    5]\n",
            " [  58  111 6210   42   22   14   17  153   43   13]\n",
            " [   9   26   71 6379   10  185    7   47   62   41]\n",
            " [   7  107    2    0 6058    0   23   22    3  263]\n",
            " [  39   36    2  125   16 5596  117   14   42   47]\n",
            " [  58   12    0    0   13   34 6434    0    8    1]\n",
            " [   2  122   24   15   44    3    0 6606    4  136]\n",
            " [  39  105   78  183   79  149   65   27 5704  119]\n",
            " [  18   45   13   46  193   26    5  190   22 6099]]\n"
          ]
        }
      ],
      "source": [
        "from sklearn.metrics import confusion_matrix\n",
        "import numpy as np\n",
        "test_predictions =y_predict\n",
        "\n",
        "\n",
        "\n",
        "cm = confusion_matrix(y_true = y_test, y_pred = test_predictions)\n",
        "print(cm)"
      ]
    },
    {
      "cell_type": "code",
      "execution_count": 30,
      "metadata": {
        "colab": {
          "base_uri": "https://localhost:8080/"
        },
        "id": "rcuaK3JouSFn",
        "outputId": "92e41f04-ea44-4815-dba1-ca3ee18fee06"
      },
      "outputs": [
        {
          "name": "stdout",
          "output_type": "stream",
          "text": [
            "score aprés knn avant entrainement 0.9018535127055306\n"
          ]
        }
      ],
      "source": [
        "X_train=np.array(X_train)\n",
        "y_train=np.array(y_train)\n",
        "shuffle_idx =np.random.permutation(len (X_train))\n",
        "X_train = X_train[shuffle_idx]\n",
        "y_train = y_train[shuffle_idx]\n",
        "knn.fit(X_train, y_train)\n",
        "y_predict = knn.predict(X_test)\n",
        "from sklearn.metrics import accuracy_score\n",
        "print(\"score aprés knn avant entrainement\", accuracy_score(y_test, y_predict))"
      ]
    },
    {
      "cell_type": "code",
      "execution_count": 31,
      "metadata": {
        "colab": {
          "base_uri": "https://localhost:8080/"
        },
        "id": "O5ZDtnC-0g5T",
        "outputId": "3b331bb3-0231-43bb-c7d7-6c3eaee84703"
      },
      "outputs": [
        {
          "name": "stdout",
          "output_type": "stream",
          "text": [
            "[[6538    4    8    2    4   21   28    3    1    0]\n",
            " [   1 7484   20    1    4    6    5    7    1    2]\n",
            " [ 192  280 5937   54   23   11   20  128   31    7]\n",
            " [  38   76  159 6295   21  117    5   53   44   29]\n",
            " [   8  162   19    1 6067    0   21   33    4  170]\n",
            " [ 115   81    6  438   75 5182   86   13    9   29]\n",
            " [ 194   42   17    3   57   63 6182    1    1    0]\n",
            " [  15  204   40   23  146   14    0 6406    3  105]\n",
            " [ 113  256  179  357  123  346   81   89 4903  101]\n",
            " [  45   63   31   87  648   44    4  376   19 5340]]\n"
          ]
        }
      ],
      "source": [
        "from sklearn.metrics import confusion_matrix\n",
        "import numpy as np\n",
        "test_predictions =y_predict\n",
        "\n",
        "\n",
        "\n",
        "cm = confusion_matrix(y_true = y_test, y_pred = test_predictions)\n",
        "print(cm)"
      ]
    },
    {
      "cell_type": "code",
      "execution_count": 32,
      "metadata": {
        "colab": {
          "base_uri": "https://localhost:8080/"
        },
        "id": "7GmRzDZYYbeR",
        "outputId": "191f79d3-a418-4dd9-a7fe-eea3282d7f84"
      },
      "outputs": [
        {
          "ename": "KeyboardInterrupt",
          "evalue": "",
          "output_type": "error",
          "traceback": [
            "\u001b[1;31m---------------------------------------------------------------------------\u001b[0m",
            "\u001b[1;31mKeyboardInterrupt\u001b[0m                         Traceback (most recent call last)",
            "\u001b[1;32md:\\cours\\pds\\ProjetML_Versionfinal.ipynb Cell 22\u001b[0m line \u001b[0;36m3\n\u001b[0;32m      <a href='vscode-notebook-cell:/d%3A/cours/pds/ProjetML_Versionfinal.ipynb#X30sZmlsZQ%3D%3D?line=0'>1</a>\u001b[0m \u001b[39mfrom\u001b[39;00m \u001b[39msklearn\u001b[39;00m\u001b[39m.\u001b[39;00m\u001b[39mensemble\u001b[39;00m \u001b[39mimport\u001b[39;00m RandomForestClassifier\n\u001b[0;32m      <a href='vscode-notebook-cell:/d%3A/cours/pds/ProjetML_Versionfinal.ipynb#X30sZmlsZQ%3D%3D?line=1'>2</a>\u001b[0m rf\u001b[39m=\u001b[39mRandomForestClassifier(n_estimators\u001b[39m=\u001b[39m\u001b[39m1000\u001b[39m)\n\u001b[1;32m----> <a href='vscode-notebook-cell:/d%3A/cours/pds/ProjetML_Versionfinal.ipynb#X30sZmlsZQ%3D%3D?line=2'>3</a>\u001b[0m preds\u001b[39m=\u001b[39mrf\u001b[39m.\u001b[39;49mfit(X_train_augmented, y_train_augmented)\n\u001b[0;32m      <a href='vscode-notebook-cell:/d%3A/cours/pds/ProjetML_Versionfinal.ipynb#X30sZmlsZQ%3D%3D?line=3'>4</a>\u001b[0m preds\u001b[39m=\u001b[39mrf\u001b[39m.\u001b[39mpredict(X_test)\n\u001b[0;32m      <a href='vscode-notebook-cell:/d%3A/cours/pds/ProjetML_Versionfinal.ipynb#X30sZmlsZQ%3D%3D?line=4'>5</a>\u001b[0m \u001b[39mprint\u001b[39m(preds)\n",
            "File \u001b[1;32md:\\cours\\pds\\jupvenv\\lib\\site-packages\\sklearn\\base.py:1152\u001b[0m, in \u001b[0;36m_fit_context.<locals>.decorator.<locals>.wrapper\u001b[1;34m(estimator, *args, **kwargs)\u001b[0m\n\u001b[0;32m   1145\u001b[0m     estimator\u001b[39m.\u001b[39m_validate_params()\n\u001b[0;32m   1147\u001b[0m \u001b[39mwith\u001b[39;00m config_context(\n\u001b[0;32m   1148\u001b[0m     skip_parameter_validation\u001b[39m=\u001b[39m(\n\u001b[0;32m   1149\u001b[0m         prefer_skip_nested_validation \u001b[39mor\u001b[39;00m global_skip_validation\n\u001b[0;32m   1150\u001b[0m     )\n\u001b[0;32m   1151\u001b[0m ):\n\u001b[1;32m-> 1152\u001b[0m     \u001b[39mreturn\u001b[39;00m fit_method(estimator, \u001b[39m*\u001b[39margs, \u001b[39m*\u001b[39m\u001b[39m*\u001b[39mkwargs)\n",
            "File \u001b[1;32md:\\cours\\pds\\jupvenv\\lib\\site-packages\\sklearn\\ensemble\\_forest.py:456\u001b[0m, in \u001b[0;36mBaseForest.fit\u001b[1;34m(self, X, y, sample_weight)\u001b[0m\n\u001b[0;32m    445\u001b[0m trees \u001b[39m=\u001b[39m [\n\u001b[0;32m    446\u001b[0m     \u001b[39mself\u001b[39m\u001b[39m.\u001b[39m_make_estimator(append\u001b[39m=\u001b[39m\u001b[39mFalse\u001b[39;00m, random_state\u001b[39m=\u001b[39mrandom_state)\n\u001b[0;32m    447\u001b[0m     \u001b[39mfor\u001b[39;00m i \u001b[39min\u001b[39;00m \u001b[39mrange\u001b[39m(n_more_estimators)\n\u001b[0;32m    448\u001b[0m ]\n\u001b[0;32m    450\u001b[0m \u001b[39m# Parallel loop: we prefer the threading backend as the Cython code\u001b[39;00m\n\u001b[0;32m    451\u001b[0m \u001b[39m# for fitting the trees is internally releasing the Python GIL\u001b[39;00m\n\u001b[0;32m    452\u001b[0m \u001b[39m# making threading more efficient than multiprocessing in\u001b[39;00m\n\u001b[0;32m    453\u001b[0m \u001b[39m# that case. However, for joblib 0.12+ we respect any\u001b[39;00m\n\u001b[0;32m    454\u001b[0m \u001b[39m# parallel_backend contexts set at a higher level,\u001b[39;00m\n\u001b[0;32m    455\u001b[0m \u001b[39m# since correctness does not rely on using threads.\u001b[39;00m\n\u001b[1;32m--> 456\u001b[0m trees \u001b[39m=\u001b[39m Parallel(\n\u001b[0;32m    457\u001b[0m     n_jobs\u001b[39m=\u001b[39;49m\u001b[39mself\u001b[39;49m\u001b[39m.\u001b[39;49mn_jobs,\n\u001b[0;32m    458\u001b[0m     verbose\u001b[39m=\u001b[39;49m\u001b[39mself\u001b[39;49m\u001b[39m.\u001b[39;49mverbose,\n\u001b[0;32m    459\u001b[0m     prefer\u001b[39m=\u001b[39;49m\u001b[39m\"\u001b[39;49m\u001b[39mthreads\u001b[39;49m\u001b[39m\"\u001b[39;49m,\n\u001b[0;32m    460\u001b[0m )(\n\u001b[0;32m    461\u001b[0m     delayed(_parallel_build_trees)(\n\u001b[0;32m    462\u001b[0m         t,\n\u001b[0;32m    463\u001b[0m         \u001b[39mself\u001b[39;49m\u001b[39m.\u001b[39;49mbootstrap,\n\u001b[0;32m    464\u001b[0m         X,\n\u001b[0;32m    465\u001b[0m         y,\n\u001b[0;32m    466\u001b[0m         sample_weight,\n\u001b[0;32m    467\u001b[0m         i,\n\u001b[0;32m    468\u001b[0m         \u001b[39mlen\u001b[39;49m(trees),\n\u001b[0;32m    469\u001b[0m         verbose\u001b[39m=\u001b[39;49m\u001b[39mself\u001b[39;49m\u001b[39m.\u001b[39;49mverbose,\n\u001b[0;32m    470\u001b[0m         class_weight\u001b[39m=\u001b[39;49m\u001b[39mself\u001b[39;49m\u001b[39m.\u001b[39;49mclass_weight,\n\u001b[0;32m    471\u001b[0m         n_samples_bootstrap\u001b[39m=\u001b[39;49mn_samples_bootstrap,\n\u001b[0;32m    472\u001b[0m     )\n\u001b[0;32m    473\u001b[0m     \u001b[39mfor\u001b[39;49;00m i, t \u001b[39min\u001b[39;49;00m \u001b[39menumerate\u001b[39;49m(trees)\n\u001b[0;32m    474\u001b[0m )\n\u001b[0;32m    476\u001b[0m \u001b[39m# Collect newly grown trees\u001b[39;00m\n\u001b[0;32m    477\u001b[0m \u001b[39mself\u001b[39m\u001b[39m.\u001b[39mestimators_\u001b[39m.\u001b[39mextend(trees)\n",
            "File \u001b[1;32md:\\cours\\pds\\jupvenv\\lib\\site-packages\\sklearn\\utils\\parallel.py:65\u001b[0m, in \u001b[0;36mParallel.__call__\u001b[1;34m(self, iterable)\u001b[0m\n\u001b[0;32m     60\u001b[0m config \u001b[39m=\u001b[39m get_config()\n\u001b[0;32m     61\u001b[0m iterable_with_config \u001b[39m=\u001b[39m (\n\u001b[0;32m     62\u001b[0m     (_with_config(delayed_func, config), args, kwargs)\n\u001b[0;32m     63\u001b[0m     \u001b[39mfor\u001b[39;00m delayed_func, args, kwargs \u001b[39min\u001b[39;00m iterable\n\u001b[0;32m     64\u001b[0m )\n\u001b[1;32m---> 65\u001b[0m \u001b[39mreturn\u001b[39;00m \u001b[39msuper\u001b[39;49m()\u001b[39m.\u001b[39;49m\u001b[39m__call__\u001b[39;49m(iterable_with_config)\n",
            "File \u001b[1;32md:\\cours\\pds\\jupvenv\\lib\\site-packages\\joblib\\parallel.py:1863\u001b[0m, in \u001b[0;36mParallel.__call__\u001b[1;34m(self, iterable)\u001b[0m\n\u001b[0;32m   1861\u001b[0m     output \u001b[39m=\u001b[39m \u001b[39mself\u001b[39m\u001b[39m.\u001b[39m_get_sequential_output(iterable)\n\u001b[0;32m   1862\u001b[0m     \u001b[39mnext\u001b[39m(output)\n\u001b[1;32m-> 1863\u001b[0m     \u001b[39mreturn\u001b[39;00m output \u001b[39mif\u001b[39;00m \u001b[39mself\u001b[39m\u001b[39m.\u001b[39mreturn_generator \u001b[39melse\u001b[39;00m \u001b[39mlist\u001b[39;49m(output)\n\u001b[0;32m   1865\u001b[0m \u001b[39m# Let's create an ID that uniquely identifies the current call. If the\u001b[39;00m\n\u001b[0;32m   1866\u001b[0m \u001b[39m# call is interrupted early and that the same instance is immediately\u001b[39;00m\n\u001b[0;32m   1867\u001b[0m \u001b[39m# re-used, this id will be used to prevent workers that were\u001b[39;00m\n\u001b[0;32m   1868\u001b[0m \u001b[39m# concurrently finalizing a task from the previous call to run the\u001b[39;00m\n\u001b[0;32m   1869\u001b[0m \u001b[39m# callback.\u001b[39;00m\n\u001b[0;32m   1870\u001b[0m \u001b[39mwith\u001b[39;00m \u001b[39mself\u001b[39m\u001b[39m.\u001b[39m_lock:\n",
            "File \u001b[1;32md:\\cours\\pds\\jupvenv\\lib\\site-packages\\joblib\\parallel.py:1792\u001b[0m, in \u001b[0;36mParallel._get_sequential_output\u001b[1;34m(self, iterable)\u001b[0m\n\u001b[0;32m   1790\u001b[0m \u001b[39mself\u001b[39m\u001b[39m.\u001b[39mn_dispatched_batches \u001b[39m+\u001b[39m\u001b[39m=\u001b[39m \u001b[39m1\u001b[39m\n\u001b[0;32m   1791\u001b[0m \u001b[39mself\u001b[39m\u001b[39m.\u001b[39mn_dispatched_tasks \u001b[39m+\u001b[39m\u001b[39m=\u001b[39m \u001b[39m1\u001b[39m\n\u001b[1;32m-> 1792\u001b[0m res \u001b[39m=\u001b[39m func(\u001b[39m*\u001b[39margs, \u001b[39m*\u001b[39m\u001b[39m*\u001b[39mkwargs)\n\u001b[0;32m   1793\u001b[0m \u001b[39mself\u001b[39m\u001b[39m.\u001b[39mn_completed_tasks \u001b[39m+\u001b[39m\u001b[39m=\u001b[39m \u001b[39m1\u001b[39m\n\u001b[0;32m   1794\u001b[0m \u001b[39mself\u001b[39m\u001b[39m.\u001b[39mprint_progress()\n",
            "File \u001b[1;32md:\\cours\\pds\\jupvenv\\lib\\site-packages\\sklearn\\utils\\parallel.py:127\u001b[0m, in \u001b[0;36m_FuncWrapper.__call__\u001b[1;34m(self, *args, **kwargs)\u001b[0m\n\u001b[0;32m    125\u001b[0m     config \u001b[39m=\u001b[39m {}\n\u001b[0;32m    126\u001b[0m \u001b[39mwith\u001b[39;00m config_context(\u001b[39m*\u001b[39m\u001b[39m*\u001b[39mconfig):\n\u001b[1;32m--> 127\u001b[0m     \u001b[39mreturn\u001b[39;00m \u001b[39mself\u001b[39m\u001b[39m.\u001b[39mfunction(\u001b[39m*\u001b[39margs, \u001b[39m*\u001b[39m\u001b[39m*\u001b[39mkwargs)\n",
            "File \u001b[1;32md:\\cours\\pds\\jupvenv\\lib\\site-packages\\sklearn\\ensemble\\_forest.py:188\u001b[0m, in \u001b[0;36m_parallel_build_trees\u001b[1;34m(tree, bootstrap, X, y, sample_weight, tree_idx, n_trees, verbose, class_weight, n_samples_bootstrap)\u001b[0m\n\u001b[0;32m    185\u001b[0m     \u001b[39melif\u001b[39;00m class_weight \u001b[39m==\u001b[39m \u001b[39m\"\u001b[39m\u001b[39mbalanced_subsample\u001b[39m\u001b[39m\"\u001b[39m:\n\u001b[0;32m    186\u001b[0m         curr_sample_weight \u001b[39m*\u001b[39m\u001b[39m=\u001b[39m compute_sample_weight(\u001b[39m\"\u001b[39m\u001b[39mbalanced\u001b[39m\u001b[39m\"\u001b[39m, y, indices\u001b[39m=\u001b[39mindices)\n\u001b[1;32m--> 188\u001b[0m     tree\u001b[39m.\u001b[39;49mfit(X, y, sample_weight\u001b[39m=\u001b[39;49mcurr_sample_weight, check_input\u001b[39m=\u001b[39;49m\u001b[39mFalse\u001b[39;49;00m)\n\u001b[0;32m    189\u001b[0m \u001b[39melse\u001b[39;00m:\n\u001b[0;32m    190\u001b[0m     tree\u001b[39m.\u001b[39mfit(X, y, sample_weight\u001b[39m=\u001b[39msample_weight, check_input\u001b[39m=\u001b[39m\u001b[39mFalse\u001b[39;00m)\n",
            "File \u001b[1;32md:\\cours\\pds\\jupvenv\\lib\\site-packages\\sklearn\\base.py:1152\u001b[0m, in \u001b[0;36m_fit_context.<locals>.decorator.<locals>.wrapper\u001b[1;34m(estimator, *args, **kwargs)\u001b[0m\n\u001b[0;32m   1145\u001b[0m     estimator\u001b[39m.\u001b[39m_validate_params()\n\u001b[0;32m   1147\u001b[0m \u001b[39mwith\u001b[39;00m config_context(\n\u001b[0;32m   1148\u001b[0m     skip_parameter_validation\u001b[39m=\u001b[39m(\n\u001b[0;32m   1149\u001b[0m         prefer_skip_nested_validation \u001b[39mor\u001b[39;00m global_skip_validation\n\u001b[0;32m   1150\u001b[0m     )\n\u001b[0;32m   1151\u001b[0m ):\n\u001b[1;32m-> 1152\u001b[0m     \u001b[39mreturn\u001b[39;00m fit_method(estimator, \u001b[39m*\u001b[39margs, \u001b[39m*\u001b[39m\u001b[39m*\u001b[39mkwargs)\n",
            "File \u001b[1;32md:\\cours\\pds\\jupvenv\\lib\\site-packages\\sklearn\\tree\\_classes.py:959\u001b[0m, in \u001b[0;36mDecisionTreeClassifier.fit\u001b[1;34m(self, X, y, sample_weight, check_input)\u001b[0m\n\u001b[0;32m    928\u001b[0m \u001b[39m@_fit_context\u001b[39m(prefer_skip_nested_validation\u001b[39m=\u001b[39m\u001b[39mTrue\u001b[39;00m)\n\u001b[0;32m    929\u001b[0m \u001b[39mdef\u001b[39;00m \u001b[39mfit\u001b[39m(\u001b[39mself\u001b[39m, X, y, sample_weight\u001b[39m=\u001b[39m\u001b[39mNone\u001b[39;00m, check_input\u001b[39m=\u001b[39m\u001b[39mTrue\u001b[39;00m):\n\u001b[0;32m    930\u001b[0m \u001b[39m    \u001b[39m\u001b[39m\"\"\"Build a decision tree classifier from the training set (X, y).\u001b[39;00m\n\u001b[0;32m    931\u001b[0m \n\u001b[0;32m    932\u001b[0m \u001b[39m    Parameters\u001b[39;00m\n\u001b[1;32m   (...)\u001b[0m\n\u001b[0;32m    956\u001b[0m \u001b[39m        Fitted estimator.\u001b[39;00m\n\u001b[0;32m    957\u001b[0m \u001b[39m    \"\"\"\u001b[39;00m\n\u001b[1;32m--> 959\u001b[0m     \u001b[39msuper\u001b[39;49m()\u001b[39m.\u001b[39;49m_fit(\n\u001b[0;32m    960\u001b[0m         X,\n\u001b[0;32m    961\u001b[0m         y,\n\u001b[0;32m    962\u001b[0m         sample_weight\u001b[39m=\u001b[39;49msample_weight,\n\u001b[0;32m    963\u001b[0m         check_input\u001b[39m=\u001b[39;49mcheck_input,\n\u001b[0;32m    964\u001b[0m     )\n\u001b[0;32m    965\u001b[0m     \u001b[39mreturn\u001b[39;00m \u001b[39mself\u001b[39m\n",
            "File \u001b[1;32md:\\cours\\pds\\jupvenv\\lib\\site-packages\\sklearn\\tree\\_classes.py:443\u001b[0m, in \u001b[0;36mBaseDecisionTree._fit\u001b[1;34m(self, X, y, sample_weight, check_input, missing_values_in_feature_mask)\u001b[0m\n\u001b[0;32m    432\u001b[0m \u001b[39melse\u001b[39;00m:\n\u001b[0;32m    433\u001b[0m     builder \u001b[39m=\u001b[39m BestFirstTreeBuilder(\n\u001b[0;32m    434\u001b[0m         splitter,\n\u001b[0;32m    435\u001b[0m         min_samples_split,\n\u001b[1;32m   (...)\u001b[0m\n\u001b[0;32m    440\u001b[0m         \u001b[39mself\u001b[39m\u001b[39m.\u001b[39mmin_impurity_decrease,\n\u001b[0;32m    441\u001b[0m     )\n\u001b[1;32m--> 443\u001b[0m builder\u001b[39m.\u001b[39;49mbuild(\u001b[39mself\u001b[39;49m\u001b[39m.\u001b[39;49mtree_, X, y, sample_weight, missing_values_in_feature_mask)\n\u001b[0;32m    445\u001b[0m \u001b[39mif\u001b[39;00m \u001b[39mself\u001b[39m\u001b[39m.\u001b[39mn_outputs_ \u001b[39m==\u001b[39m \u001b[39m1\u001b[39m \u001b[39mand\u001b[39;00m is_classifier(\u001b[39mself\u001b[39m):\n\u001b[0;32m    446\u001b[0m     \u001b[39mself\u001b[39m\u001b[39m.\u001b[39mn_classes_ \u001b[39m=\u001b[39m \u001b[39mself\u001b[39m\u001b[39m.\u001b[39mn_classes_[\u001b[39m0\u001b[39m]\n",
            "\u001b[1;31mKeyboardInterrupt\u001b[0m: "
          ]
        }
      ],
      "source": [
        "from sklearn.ensemble import RandomForestClassifier\n",
        "rf=RandomForestClassifier(n_estimators=1000)\n",
        "preds=rf.fit(X_train_augmented, y_train_augmented)\n",
        "preds=rf.predict(X_test)\n",
        "print(preds)\n",
        "print(y_test)\n",
        "print(len(preds))\n",
        "count=0\n",
        "for i in range(len(preds)):\n",
        "  if preds[i]==y_test[i]:\n",
        "    count+=1\n",
        "print(count)\n",
        "print(\"score Random Forest aprés entrainement: \",count/len(preds))"
      ]
    },
    {
      "cell_type": "code",
      "execution_count": null,
      "metadata": {
        "colab": {
          "base_uri": "https://localhost:8080/"
        },
        "id": "tqv1J3EWRZq1",
        "outputId": "5ff70ff2-7ed6-424c-d8e2-d1251aa52d93"
      },
      "outputs": [
        {
          "name": "stdout",
          "output_type": "stream",
          "text": [
            "[[6604    0   20    6   24   17   68    2   25   28]\n",
            " [   3 7553   51    1   11   16   12   22   64   12]\n",
            " [  23   25 6428   41   95   24  103   88   38   16]\n",
            " [  26   64  160 5885    9  658   24   88  103   24]\n",
            " [   6    5    1    2 6146    0   41   29   39  439]\n",
            " [  84   53    9   40   16 5803   83   32   38   56]\n",
            " [  54   27  120    1   97   71 6403    0    4    0]\n",
            " [   5   37   95    9   45    0    2 6795   29  146]\n",
            " [  26   98   73  116   65  108   60    6 6010  165]\n",
            " [  26   26   24   89  110   29    9  130   49 6358]]\n"
          ]
        }
      ],
      "source": [
        "from sklearn.metrics import confusion_matrix\n",
        "import numpy as np\n",
        "test_predictions =preds\n",
        "\n",
        "\n",
        "\n",
        "cm = confusion_matrix(y_true = y_test, y_pred = test_predictions)\n",
        "print(cm)"
      ]
    },
    {
      "cell_type": "code",
      "execution_count": null,
      "metadata": {
        "colab": {
          "base_uri": "https://localhost:8080/"
        },
        "id": "dYBstq9zYbh-",
        "outputId": "dd0d7209-129a-43fb-bc4f-68bf2204a36f"
      },
      "outputs": [
        {
          "name": "stdout",
          "output_type": "stream",
          "text": [
            "['6' '8' '0' ... '4' '5' '6']\n",
            "['6' '8' '0' ... '4' '5' '6']\n",
            "68900\n",
            "60840\n",
            "lsda [11, 16, 20, 21, 37, 38, 40, 48, 49, 51, 70, 98, 101, 113, 119, 122, 133, 134, 136, 139, 144, 148, 159, 165, 170, 178, 182, 187, 217, 219, 228, 241, 251, 252, 257, 260, 261, 263, 264, 265, 275, 276, 280, 287, 302, 304, 312, 314, 323, 328, 377, 394, 412, 418, 422, 438, 454, 459, 468, 473, 476, 480, 486, 498, 500, 504, 514, 518, 520, 522, 534, 542, 551, 574, 588, 618, 621, 632, 637, 640, 644, 673, 684, 706, 712, 714, 726, 742, 746, 754, 808, 820, 828, 838, 848, 868, 874, 881, 892, 910, 914, 916, 928, 934, 942, 944, 950, 964, 970, 972, 974, 992, 998, 1008, 1014, 1018, 1032, 1050, 1084, 1094, 1108, 1120, 1131, 1132, 1134, 1152, 1158, 1168, 1176, 1177, 1186, 1202, 1208, 1220, 1238, 1295, 1306, 1310, 1323, 1325, 1326, 1343, 1349, 1350, 1366, 1384, 1386, 1388, 1390, 1402, 1403, 1442, 1446, 1464, 1466, 1471, 1480, 1488, 1536, 1548, 1552, 1560, 1571, 1576, 1580, 1582, 1590, 1607, 1614, 1620, 1634, 1639, 1648, 1651, 1655, 1661, 1665, 1671, 1681, 1698, 1703, 1717, 1733, 1742, 1745, 1761, 1780, 1801, 1804, 1827, 1828, 1831, 1834, 1842, 1856, 1858, 1860, 1880, 1900, 1902, 1910, 1914, 1926, 1927, 1930, 1951, 1962, 1966, 1994, 2000, 2037, 2040, 2066, 2068, 2078, 2104, 2105, 2116, 2118, 2119, 2120, 2152, 2154, 2158, 2168, 2173, 2184, 2189, 2190, 2208, 2214, 2218, 2232, 2246, 2254, 2267, 2274, 2282, 2284, 2292, 2301, 2307, 2315, 2337, 2338, 2353, 2357, 2384, 2394, 2404, 2408, 2410, 2422, 2424, 2426, 2444, 2470, 2472, 2477, 2480, 2484, 2494, 2500, 2515, 2526, 2534, 2544, 2562, 2576, 2592, 2596, 2617, 2619, 2630, 2642, 2644, 2646, 2654, 2657, 2662, 2667, 2691, 2698, 2701, 2703, 2710, 2714, 2724, 2742, 2754, 2779, 2804, 2818, 2836, 2838, 2841, 2844, 2846, 2860, 2868, 2875, 2881, 2884, 2898, 2904, 2906, 2907, 2914, 2928, 2932, 2933, 2950, 2952, 2958, 2962, 2966, 3003, 3004, 3022, 3024, 3038, 3042, 3048, 3053, 3058, 3064, 3070, 3076, 3082, 3084, 3085, 3092, 3105, 3128, 3153, 3156, 3158, 3160, 3172, 3176, 3190, 3217, 3222, 3228, 3260, 3262, 3282, 3302, 3318, 3338, 3360, 3375, 3376, 3380, 3381, 3398, 3402, 3410, 3411, 3425, 3460, 3470, 3495, 3496, 3500, 3532, 3534, 3536, 3537, 3538, 3554, 3565, 3566, 3578, 3579, 3587, 3594, 3614, 3628, 3661, 3662, 3667, 3684, 3697, 3700, 3704, 3712, 3714, 3720, 3722, 3731, 3736, 3746, 3750, 3757, 3760, 3762, 3766, 3769, 3773, 3778, 3779, 3787, 3804, 3808, 3809, 3835, 3845, 3848, 3855, 3868, 3886, 3887, 3888, 3900, 3902, 3913, 3924, 3928, 3932, 3942, 3952, 3978, 3980, 3982, 3986, 4003, 4013, 4024, 4029, 4036, 4050, 4052, 4066, 4070, 4074, 4088, 4095, 4116, 4140, 4154, 4158, 4195, 4198, 4206, 4207, 4208, 4215, 4216, 4224, 4232, 4238, 4262, 4268, 4270, 4272, 4282, 4284, 4290, 4296, 4302, 4322, 4326, 4330, 4340, 4374, 4377, 4382, 4436, 4438, 4442, 4448, 4454, 4464, 4472, 4494, 4498, 4500, 4516, 4520, 4526, 4534, 4538, 4566, 4578, 4579, 4591, 4602, 4604, 4606, 4618, 4623, 4640, 4648, 4662, 4669, 4671, 4680, 4690, 4694, 4695, 4702, 4711, 4721, 4726, 4728, 4742, 4751, 4755, 4768, 4776, 4796, 4804, 4816, 4820, 4828, 4836, 4853, 4854, 4864, 4872, 4874, 4892, 4942, 4944, 4966, 4984, 4994, 5030, 5052, 5054, 5056, 5060, 5062, 5066, 5070, 5097, 5102, 5120, 5121, 5130, 5131, 5154, 5159, 5164, 5169, 5184, 5185, 5187, 5189, 5201, 5207, 5215, 5239, 5245, 5248, 5262, 5318, 5330, 5334, 5348, 5350, 5366, 5370, 5372, 5374, 5394, 5398, 5400, 5418, 5434, 5456, 5460, 5480, 5482, 5500, 5501, 5504, 5518, 5536, 5558, 5568, 5575, 5594, 5595, 5606, 5632, 5662, 5666, 5671, 5678, 5684, 5692, 5708, 5709, 5710, 5716, 5718, 5725, 5730, 5735, 5744, 5748, 5755, 5758, 5759, 5763, 5779, 5785, 5798, 5801, 5804, 5814, 5818, 5820, 5827, 5829, 5834, 5842, 5844, 5847, 5850, 5852, 5862, 5870, 5878, 5880, 5890, 5895, 5906, 5909, 5910, 5911, 5930, 5936, 5958, 5980, 6012, 6014, 6036, 6060, 6068, 6082, 6089, 6090, 6092, 6096, 6108, 6110, 6114, 6115, 6119, 6125, 6132, 6133, 6138, 6142, 6143, 6155, 6170, 6182, 6200, 6204, 6216, 6229, 6246, 6250, 6254, 6287, 6336, 6338, 6348, 6350, 6366, 6389, 6398, 6399, 6408, 6412, 6428, 6430, 6444, 6457, 6464, 6470, 6484, 6496, 6502, 6506, 6520, 6528, 6531, 6538, 6566, 6571, 6578, 6632, 6641, 6662, 6665, 6667, 6668, 6684, 6693, 6696, 6697, 6700, 6702, 6708, 6714, 6740, 6742, 6751, 6762, 6777, 6779, 6786, 6791, 6809, 6823, 6824, 6826, 6851, 6856, 6862, 6879, 6884, 6894, 6895, 6909, 6912, 6913, 6929, 6931, 6945, 6948, 6955, 6962, 7004, 7010, 7020, 7022, 7025, 7026, 7044, 7052, 7078, 7090, 7096, 7100, 7102, 7108, 7114, 7116, 7121, 7126, 7128, 7134, 7135, 7152, 7154, 7162, 7165, 7168, 7197, 7198, 7226, 7247, 7250, 7275, 7277, 7286, 7290, 7305, 7327, 7328, 7329, 7332, 7342, 7347, 7349, 7351, 7358, 7363, 7368, 7371, 7380, 7383, 7388, 7391, 7404, 7420, 7422, 7428, 7452, 7454, 7456, 7458, 7460, 7484, 7486, 7500, 7504, 7522, 7524, 7535, 7537, 7538, 7539, 7545, 7547, 7551, 7561, 7563, 7568, 7570, 7574, 7576, 7578, 7580, 7590, 7591, 7593, 7596, 7600, 7602, 7609, 7614, 7619, 7629, 7631, 7636, 7665, 7671, 7672, 7673, 7680, 7686, 7690, 7695, 7696, 7716, 7721, 7726, 7743, 7745, 7753, 7754, 7757, 7761, 7762, 7765, 7779, 7780, 7783, 7784, 7787, 7798, 7800, 7804, 7810, 7818, 7820, 7834, 7840, 7846, 7866, 7868, 7900, 7904, 7908, 7916, 7930, 7962, 7978, 7980, 7981, 7991, 7998, 8004, 8008, 8011, 8018, 8019, 8038, 8041, 8045, 8047, 8063, 8064, 8090, 8092, 8102, 8105, 8111, 8116, 8120, 8148, 8155, 8156, 8166, 8179, 8185, 8189, 8190, 8191, 8193, 8194, 8222, 8230, 8240, 8244, 8246, 8248, 8268, 8270, 8284, 8286, 8290, 8319, 8328, 8333, 8334, 8342, 8348, 8349, 8350, 8355, 8364, 8368, 8372, 8390, 8413, 8416, 8428, 8434, 8457, 8459, 8467, 8473, 8474, 8488, 8491, 8501, 8508, 8511, 8512, 8541, 8551, 8561, 8564, 8577, 8638, 8640, 8649, 8660, 8669, 8670, 8674, 8678, 8682, 8688, 8689, 8699, 8710, 8714, 8760, 8767, 8770, 8776, 8778, 8798, 8824, 8832, 8840, 8848, 8856, 8876, 8879, 8896, 8905, 8912, 8918, 8925, 8928, 8932, 8938, 8942, 8944, 8954, 8961, 8964, 8976, 8989, 9014, 9016, 9051, 9095, 9097, 9103, 9105, 9110, 9111, 9118, 9127, 9139, 9141, 9145, 9151, 9156, 9157, 9158, 9159, 9161, 9165, 9173, 9177, 9180, 9182, 9185, 9191, 9192, 9201, 9244, 9258, 9270, 9286, 9290, 9312, 9314, 9324, 9334, 9337, 9338, 9362, 9389, 9391, 9402, 9403, 9412, 9413, 9414, 9415, 9418, 9421, 9424, 9440, 9449, 9476, 9534, 9544, 9555, 9574, 9610, 9622, 9626, 9633, 9636, 9638, 9644, 9653, 9656, 9660, 9672, 9674, 9678, 9680, 9690, 9700, 9720, 9745, 9750, 9752, 9776, 9794, 9812, 9825, 9832, 9837, 9840, 9856, 9882, 9884, 9886, 9890, 9892, 9897, 9898, 9938, 9939, 9944, 9964, 9968, 9974, 9987, 10001, 10004, 10021, 10022, 10026, 10027, 10031, 10048, 10054, 10062, 10091, 10094, 10096, 10102, 10108, 10110, 10111, 10126, 10127, 10134, 10139, 10141, 10142, 10155, 10192, 10195, 10198, 10200, 10206, 10238, 10242, 10246, 10266, 10268, 10277, 10278, 10288, 10306, 10326, 10338, 10341, 10363, 10370, 10382, 10388, 10389, 10392, 10412, 10434, 10436, 10445, 10449, 10454, 10465, 10470, 10472, 10476, 10483, 10486, 10492, 10500, 10513, 10514, 10519, 10532, 10538, 10539, 10543, 10544, 10557, 10575, 10593, 10596, 10602, 10605, 10608, 10611, 10619, 10621, 10634, 10647, 10659, 10662, 10667, 10677, 10681, 10682, 10684, 10690, 10697, 10706, 10729, 10742, 10743, 10753, 10776, 10785, 10786, 10800, 10804, 10806, 10821, 10822, 10849, 10851, 10860, 10864, 10879, 10884, 10890, 10892, 10899, 10912, 10917, 10918, 10924, 10932, 10952, 10963, 10966, 10974, 10978, 10980, 10989, 11012, 11017, 11023, 11051, 11053, 11057, 11081, 11083, 11090, 11096, 11111, 11120, 11123, 11132, 11154, 11168, 11172, 11184, 11197, 11205, 11208, 11242, 11245, 11249, 11268, 11272, 11277, 11281, 11289, 11292, 11316, 11324, 11340, 11354, 11366, 11370, 11384, 11393, 11397, 11401, 11402, 11413, 11419, 11422, 11443, 11446, 11459, 11460, 11466, 11485, 11488, 11492, 11503, 11514, 11521, 11523, 11530, 11533, 11546, 11550, 11551, 11555, 11560, 11562, 11563, 11579, 11582, 11586, 11588, 11592, 11596, 11602, 11614, 11616, 11652, 11662, 11667, 11668, 11678, 11682, 11686, 11708, 11712, 11715, 11720, 11736, 11740, 11777, 11786, 11794, 11798, 11800, 11806, 11812, 11835, 11836, 11838, 11840, 11846, 11850, 11856, 11867, 11878, 11880, 11886, 11890, 11895, 11902, 11914, 11918, 11925, 11926, 11930, 11931, 11945, 11950, 11952, 11962, 11970, 11977, 11978, 11980, 11981, 11982, 11993, 11996, 12004, 12018, 12020, 12027, 12029, 12033, 12034, 12036, 12038, 12049, 12050, 12053, 12077, 12082, 12085, 12086, 12092, 12113, 12134, 12139, 12158, 12159, 12176, 12184, 12193, 12194, 12204, 12208, 12218, 12224, 12230, 12246, 12263, 12270, 12274, 12276, 12278, 12280, 12300, 12310, 12312, 12322, 12328, 12352, 12360, 12376, 12378, 12394, 12408, 12416, 12426, 12430, 12438, 12454, 12462, 12468, 12488, 12502, 12508, 12520, 12522, 12534, 12547, 12554, 12555, 12566, 12570, 12577, 12580, 12586, 12603, 12612, 12613, 12614, 12620, 12642, 12644, 12645, 12652, 12694, 12696, 12731, 12750, 12752, 12754, 12756, 12770, 12776, 12778, 12804, 12812, 12820, 12822, 12836, 12842, 12846, 12848, 12869, 12870, 12873, 12883, 12885, 12896, 12898, 12908, 12910, 12914, 12928, 12929, 12942, 12962, 12963, 12968, 12974, 12996, 13000, 13009, 13019, 13020, 13021, 13039, 13042, 13044, 13047, 13052, 13062, 13064, 13084, 13086, 13088, 13091, 13106, 13110, 13111, 13120, 13136, 13138, 13139, 13146, 13148, 13150, 13166, 13177, 13186, 13190, 13195, 13200, 13205, 13206, 13224, 13229, 13233, 13237, 13240, 13241, 13242, 13252, 13258, 13267, 13273, 13274, 13276, 13285, 13288, 13294, 13303, 13304, 13306, 13313, 13318, 13328, 13333, 13334, 13340, 13369, 13380, 13400, 13402, 13406, 13408, 13414, 13434, 13440, 13448, 13451, 13473, 13480, 13482, 13486, 13519, 13521, 13523, 13525, 13527, 13537, 13538, 13539, 13541, 13550, 13555, 13561, 13564, 13565, 13570, 13571, 13579, 13586, 13588, 13590, 13592, 13595, 13597, 13599, 13600, 13603, 13604, 13606, 13613, 13614, 13615, 13631, 13633, 13639, 13640, 13647, 13648, 13652, 13656, 13660, 13662, 13665, 13669, 13676, 13678, 13690, 13691, 13693, 13701, 13703, 13705, 13710, 13713, 13728, 13730, 13731, 13744, 13752, 13772, 13778, 13784, 13796, 13807, 13809, 13812, 13816, 13823, 13868, 13872, 13883, 13894, 13897, 13899, 13906, 13910, 13954, 13956, 13968, 13970, 13972, 13976, 14006, 14008, 14011, 14012, 14014, 14016, 14026, 14036, 14041, 14055, 14064, 14067, 14068, 14074, 14076, 14078, 14085, 14088, 14091, 14107, 14116, 14119, 14136, 14139, 14152, 14157, 14176, 14184, 14224, 14234, 14250, 14252, 14254, 14272, 14286, 14302, 14304, 14306, 14324, 14334, 14368, 14372, 14386, 14394, 14396, 14410, 14415, 14418, 14426, 14434, 14479, 14488, 14492, 14510, 14518, 14523, 14534, 14544, 14555, 14576, 14579, 14580, 14582, 14598, 14615, 14617, 14624, 14625, 14628, 14630, 14632, 14638, 14643, 14645, 14647, 14648, 14652, 14655, 14666, 14669, 14674, 14678, 14679, 14703, 14707, 14720, 14732, 14742, 14748, 14752, 14773, 14778, 14799, 14811, 14813, 14815, 14818, 14832, 14838, 14842, 14850, 14854, 14875, 14879, 14880, 14887, 14888, 14890, 14891, 14903, 14919, 14922, 14925, 14927, 14931, 14933, 14935, 14936, 14944, 14945, 14947, 14951, 14966, 14971, 14984, 15000, 15026, 15034, 15056, 15058, 15070, 15080, 15090, 15093, 15096, 15098, 15102, 15106, 15108, 15109, 15110, 15119, 15120, 15166, 15182, 15190, 15198, 15212, 15232, 15272, 15276, 15278, 15280, 15306, 15330, 15340, 15344, 15346, 15367, 15370, 15374, 15386, 15388, 15426, 15428, 15430, 15434, 15435, 15452, 15458, 15460, 15464, 15490, 15492, 15502, 15527, 15528, 15538, 15544, 15545, 15546, 15558, 15559, 15569, 15576, 15578, 15588, 15592, 15595, 15598, 15600, 15606, 15616, 15628, 15634, 15648, 15650, 15655, 15656, 15666, 15671, 15672, 15677, 15678, 15684, 15695, 15699, 15708, 15709, 15716, 15721, 15723, 15726, 15734, 15775, 15782, 15784, 15794, 15797, 15809, 15810, 15811, 15831, 15840, 15851, 15853, 15854, 15861, 15872, 15878, 15879, 15889, 15892, 15897, 15901, 15905, 15910, 15911, 15919, 15939, 15943, 15944, 15955, 15982, 15991, 15996, 15998, 16012, 16028, 16029, 16031, 16032, 16053, 16064, 16074, 16079, 16082, 16086, 16090, 16092, 16098, 16104, 16107, 16109, 16110, 16113, 16114, 16120, 16163, 16165, 16174, 16182, 16184, 16192, 16196, 16238, 16254, 16262, 16264, 16282, 16301, 16306, 16309, 16334, 16366, 16372, 16378, 16384, 16394, 16399, 16401, 16410, 16418, 16436, 16440, 16442, 16445, 16451, 16453, 16463, 16482, 16485, 16488, 16493, 16494, 16501, 16503, 16504, 16509, 16520, 16525, 16534, 16543, 16547, 16554, 16557, 16558, 16566, 16567, 16573, 16579, 16597, 16599, 16600, 16601, 16606, 16610, 16615, 16617, 16631, 16641, 16643, 16644, 16651, 16656, 16660, 16663, 16672, 16684, 16687, 16692, 16708, 16714, 16717, 16718, 16720, 16724, 16749, 16755, 16757, 16758, 16764, 16774, 16776, 16790, 16793, 16795, 16796, 16804, 16808, 16816, 16824, 16834, 16837, 16848, 16858, 16866, 16872, 16888, 16901, 16903, 16904, 16907, 16910, 16918, 16930, 16949, 16956, 16971, 16996, 17009, 17026, 17030, 17066, 17072, 17090, 17127, 17128, 17147, 17164, 17176, 17193, 17197, 17213, 17224, 17229, 17234, 17245, 17247, 17248, 17256, 17279, 17298, 17299, 17308, 17313, 17319, 17323, 17326, 17331, 17336, 17340, 17345, 17357, 17370, 17373, 17381, 17385, 17387, 17389, 17396, 17400, 17401, 17404, 17406, 17414, 17462, 17474, 17480, 17498, 17508, 17531, 17538, 17543, 17552, 17554, 17556, 17569, 17576, 17584, 17586, 17587, 17604, 17614, 17620, 17628, 17639, 17656, 17672, 17696, 17703, 17716, 17717, 17732, 17745, 17764, 17772, 17808, 17824, 17830, 17839, 17862, 17876, 17884, 17890, 17894, 17915, 17926, 17934, 17942, 17962, 17964, 17989, 17996, 17998, 18006, 18010, 18012, 18024, 18037, 18048, 18059, 18085, 18090, 18094, 18112, 18113, 18131, 18134, 18136, 18138, 18144, 18146, 18152, 18172, 18176, 18186, 18202, 18206, 18216, 18224, 18228, 18230, 18238, 18240, 18254, 18262, 18265, 18274, 18286, 18296, 18313, 18314, 18323, 18328, 18360, 18368, 18370, 18378, 18384, 18388, 18401, 18402, 18405, 18419, 18438, 18439, 18440, 18445, 18446, 18449, 18458, 18466, 18476, 18486, 18490, 18500, 18518, 18532, 18550, 18560, 18570, 18590, 18592, 18620, 18652, 18656, 18682, 18714, 18720, 18724, 18728, 18732, 18736, 18738, 18755, 18766, 18768, 18778, 18786, 18788, 18813, 18814, 18828, 18831, 18834, 18842, 18845, 18848, 18850, 18851, 18873, 18876, 18880, 18881, 18888, 18896, 18898, 18901, 18903, 18915, 18916, 18918, 18923, 18925, 18932, 18936, 18937, 18944, 18950, 18955, 18962, 18972, 18979, 18982, 18988, 18989, 19000, 19002, 19007, 19009, 19016, 19020, 19026, 19050, 19070, 19071, 19072, 19086, 19106, 19111, 19120, 19121, 19126, 19130, 19145, 19148, 19150, 19168, 19192, 19222, 19228, 19250, 19252, 19260, 19263, 19266, 19288, 19302, 19306, 19308, 19312, 19384, 19386, 19418, 19427, 19429, 19438, 19460, 19462, 19469, 19472, 19478, 19485, 19486, 19499, 19506, 19518, 19530, 19534, 19536, 19541, 19552, 19553, 19560, 19572, 19576, 19592, 19612, 19620, 19625, 19628, 19635, 19656, 19667, 19673, 19684, 19690, 19692, 19698, 19711, 19713, 19720, 19730, 19732, 19749, 19755, 19758, 19759, 19762, 19769, 19781, 19782, 19793, 19803, 19805, 19816, 19824, 19839, 19842, 19848, 19854, 19859, 19862, 19867, 19876, 19882, 19887, 19889, 19892, 19899, 19907, 19923, 19940, 19945, 19946, 19966, 19984, 20002, 20012, 20024, 20028, 20030, 20034, 20038, 20044, 20050, 20074, 20098, 20104, 20106, 20108, 20131, 20132, 20140, 20145, 20150, 20154, 20178, 20195, 20202, 20206, 20215, 20227, 20238, 20241, 20246, 20247, 20248, 20251, 20261, 20270, 20273, 20282, 20283, 20290, 20295, 20299, 20302, 20321, 20332, 20336, 20340, 20345, 20352, 20357, 20361, 20366, 20371, 20395, 20399, 20417, 20427, 20429, 20440, 20458, 20476, 20488, 20489, 20498, 20501, 20506, 20536, 20550, 20586, 20592, 20600, 20623, 20626, 20628, 20634, 20686, 20714, 20744, 20749, 20751, 20756, 20780, 20802, 20806, 20820, 20846, 20847, 20848, 20856, 20882, 20890, 20898, 20902, 20929, 20933, 20953, 20975, 20983, 20991, 21002, 21003, 21005, 21012, 21014, 21023, 21024, 21027, 21030, 21033, 21036, 21040, 21041, 21047, 21055, 21056, 21069, 21077, 21078, 21086, 21093, 21095, 21099, 21100, 21104, 21105, 21110, 21112, 21129, 21132, 21135, 21141, 21159, 21170, 21173, 21178, 21183, 21184, 21185, 21204, 21208, 21212, 21220, 21228, 21240, 21272, 21300, 21304, 21308, 21314, 21318, 21326, 21338, 21365, 21370, 21380, 21406, 21407, 21414, 21418, 21421, 21423, 21429, 21430, 21431, 21432, 21438, 21443, 21444, 21452, 21456, 21459, 21461, 21462, 21465, 21468, 21483, 21484, 21490, 21495, 21507, 21509, 21515, 21522, 21533, 21543, 21546, 21548, 21562, 21563, 21564, 21568, 21573, 21574, 21575, 21579, 21580, 21586, 21595, 21604, 21617, 21622, 21628, 21641, 21650, 21656, 21666, 21679, 21683, 21692, 21704, 21706, 21708, 21716, 21724, 21745, 21779, 21784, 21798, 21803, 21804, 21810, 21836, 21842, 21862, 21864, 21876, 21920, 21921, 21929, 21935, 21959, 21978, 21986, 21989, 21990, 21994, 22000, 22004, 22010, 22012, 22014, 22023, 22037, 22040, 22046, 22048, 22057, 22065, 22083, 22084, 22090, 22095, 22100, 22102, 22106, 22108, 22109, 22111, 22112, 22115, 22134, 22135, 22147, 22149, 22164, 22194, 22222, 22236, 22247, 22250, 22259, 22266, 22285, 22286, 22291, 22312, 22322, 22328, 22337, 22340, 22358, 22359, 22361, 22363, 22374, 22383, 22385, 22386, 22390, 22412, 22416, 22422, 22450, 22478, 22494, 22502, 22518, 22529, 22532, 22540, 22554, 22558, 22564, 22574, 22578, 22580, 22582, 22585, 22590, 22598, 22611, 22616, 22618, 22624, 22630, 22633, 22638, 22658, 22671, 22682, 22690, 22702, 22704, 22712, 22724, 22736, 22738, 22760, 22761, 22763, 22765, 22767, 22768, 22776, 22777, 22780, 22790, 22801, 22811, 22819, 22820, 22825, 22827, 22842, 22846, 22856, 22862, 22868, 22881, 22882, 22897, 22914, 22917, 22926, 22938, 22949, 22950, 22952, 22959, 22960, 22962, 22963, 22987, 22999, 23001, 23008, 23011, 23019, 23025, 23028, 23034, 23045, 23060, 23064, 23080, 23092, 23107, 23110, 23117, 23119, 23122, 23130, 23138, 23140, 23150, 23158, 23162, 23163, 23174, 23175, 23178, 23184, 23200, 23210, 23212, 23247, 23260, 23263, 23270, 23291, 23296, 23302, 23324, 23326, 23337, 23340, 23348, 23352, 23357, 23362, 23379, 23391, 23392, 23408, 23412, 23413, 23416, 23419, 23424, 23433, 23443, 23458, 23460, 23462, 23475, 23484, 23487, 23489, 23495, 23498, 23508, 23513, 23514, 23516, 23520, 23530, 23532, 23537, 23546, 23548, 23560, 23562, 23569, 23580, 23584, 23588, 23603, 23618, 23619, 23625, 23626, 23628, 23631, 23633, 23636, 23646, 23661, 23667, 23672, 23673, 23676, 23680, 23690, 23694, 23695, 23698, 23703, 23705, 23722, 23731, 23752, 23755, 23760, 23770, 23783, 23799, 23802, 23803, 23806, 23822, 23827, 23831, 23834, 23836, 23843, 23844, 23865, 23879, 23881, 23882, 23883, 23898, 23900, 23914, 23934, 23936, 23955, 23958, 23972, 23974, 23984, 23992, 23994, 23996, 24016, 24032, 24034, 24040, 24044, 24045, 24059, 24076, 24078, 24086, 24088, 24090, 24108, 24109, 24120, 24123, 24132, 24146, 24162, 24181, 24198, 24207, 24208, 24209, 24215, 24218, 24221, 24226, 24232, 24284, 24286, 24301, 24315, 24331, 24338, 24346, 24370, 24382, 24386, 24398, 24408, 24428, 24446, 24462, 24468, 24486, 24492, 24496, 24510, 24513, 24522, 24534, 24536, 24546, 24552, 24561, 24578, 24606, 24622, 24632, 24638, 24648, 24668, 24680, 24683, 24698, 24699, 24700, 24708, 24709, 24719, 24729, 24732, 24740, 24761, 24766, 24774, 24779, 24783, 24786, 24791, 24809, 24835, 24838, 24846, 24849, 24851, 24866, 24867, 24868, 24886, 24890, 24917, 24920, 24922, 24923, 24934, 24950, 24966, 24968, 24972, 25009, 25010, 25034, 25035, 25050, 25058, 25093, 25096, 25114, 25140, 25166, 25167, 25181, 25193, 25194, 25200, 25205, 25218, 25231, 25232, 25236, 25242, 25244, 25258, 25262, 25276, 25280, 25289, 25291, 25297, 25298, 25303, 25304, 25305, 25312, 25316, 25319, 25332, 25339, 25344, 25346, 25355, 25358, 25369, 25371, 25382, 25383, 25389, 25393, 25404, 25410, 25411, 25412, 25427, 25434, 25436, 25438, 25442, 25444, 25458, 25460, 25463, 25466, 25470, 25482, 25486, 25500, 25502, 25509, 25513, 25526, 25529, 25536, 25540, 25548, 25566, 25575, 25581, 25594, 25602, 25604, 25605, 25607, 25608, 25609, 25628, 25630, 25633, 25637, 25638, 25648, 25649, 25652, 25655, 25656, 25660, 25667, 25678, 25691, 25705, 25713, 25734, 25742, 25749, 25752, 25763, 25764, 25765, 25772, 25782, 25790, 25798, 25800, 25818, 25836, 25840, 25842, 25850, 25876, 25898, 25916, 25917, 25946, 25951, 25956, 25962, 25965, 25982, 25983, 25985, 26002, 26005, 26018, 26020, 26021, 26022, 26030, 26038, 26039, 26055, 26068, 26072, 26073, 26076, 26077, 26080, 26081, 26085, 26089, 26090, 26094, 26097, 26103, 26110, 26114, 26116, 26117, 26119, 26122, 26125, 26126, 26135, 26141, 26152, 26154, 26182, 26187, 26192, 26198, 26199, 26207, 26216, 26220, 26223, 26240, 26244, 26258, 26259, 26270, 26271, 26275, 26290, 26303, 26320, 26333, 26335, 26347, 26348, 26349, 26356, 26358, 26359, 26390, 26391, 26402, 26422, 26427, 26440, 26456, 26466, 26476, 26496, 26498, 26501, 26512, 26514, 26525, 26545, 26546, 26550, 26566, 26574, 26596, 26600, 26603, 26629, 26632, 26639, 26667, 26677, 26680, 26691, 26693, 26695, 26699, 26701, 26706, 26712, 26719, 26722, 26738, 26746, 26777, 26780, 26784, 26798, 26808, 26816, 26818, 26839, 26842, 26854, 26860, 26862, 26866, 26872, 26884, 26886, 26896, 26906, 26914, 26926, 26932, 26966, 26980, 26986, 26996, 27002, 27032, 27035, 27036, 27037, 27052, 27054, 27062, 27072, 27078, 27092, 27095, 27099, 27110, 27115, 27131, 27154, 27162, 27167, 27176, 27206, 27210, 27251, 27257, 27259, 27262, 27268, 27272, 27274, 27275, 27290, 27291, 27292, 27296, 27304, 27313, 27318, 27320, 27322, 27344, 27348, 27355, 27365, 27369, 27375, 27377, 27391, 27402, 27406, 27412, 27436, 27439, 27456, 27461, 27481, 27484, 27492, 27500, 27508, 27520, 27533, 27542, 27553, 27557, 27562, 27564, 27566, 27593, 27606, 27610, 27619, 27620, 27623, 27657, 27670, 27675, 27677, 27678, 27680, 27681, 27688, 27720, 27746, 27756, 27760, 27792, 27798, 27808, 27820, 27828, 27832, 27846, 27854, 27876, 27884, 27912, 27929, 27961, 27962, 27973, 27977, 27993, 27996, 28009, 28020, 28021, 28022, 28023, 28030, 28031, 28032, 28042, 28044, 28045, 28053, 28056, 28057, 28060, 28072, 28079, 28089, 28101, 28104, 28106, 28113, 28116, 28126, 28137, 28138, 28146, 28191, 28192, 28194, 28208, 28210, 28211, 28220, 28226, 28228, 28240, 28241, 28244, 28260, 28265, 28272, 28280, 28291, 28292, 28318, 28322, 28334, 28344, 28364, 28370, 28372, 28376, 28381, 28410, 28428, 28460, 28470, 28473, 28488, 28489, 28491, 28530, 28534, 28559, 28562, 28572, 28576, 28588, 28604, 28605, 28611, 28612, 28621, 28622, 28625, 28630, 28665, 28676, 28680, 28685, 28686, 28688, 28691, 28723, 28727, 28731, 28732, 28734, 28739, 28741, 28768, 28770, 28772, 28775, 28779, 28781, 28786, 28789, 28796, 28803, 28806, 28820, 28822, 28838, 28846, 28850, 28852, 28859, 28860, 28866, 28867, 28891, 28893, 28896, 28911, 28914, 28916, 28937, 28941, 28946, 28947, 28949, 28960, 28962, 28966, 28972, 28977, 28983, 28985, 28998, 29023, 29030, 29036, 29039, 29044, 29056, 29057, 29059, 29062, 29084, 29099, 29103, 29105, 29114, 29119, 29128, 29157, 29162, 29166, 29178, 29190, 29208, 29218, 29221, 29225, 29241, 29251, 29258, 29261, 29283, 29286, 29301, 29312, 29315, 29318, 29329, 29350, 29351, 29352, 29353, 29354, 29364, 29366, 29370, 29374, 29378, 29381, 29390, 29393, 29399, 29408, 29425, 29445, 29453, 29466, 29476, 29482, 29484, 29488, 29500, 29504, 29514, 29522, 29526, 29530, 29531, 29536, 29538, 29546, 29559, 29560, 29562, 29586, 29588, 29589, 29590, 29592, 29598, 29604, 29620, 29630, 29636, 29658, 29664, 29672, 29675, 29676, 29688, 29692, 29701, 29706, 29710, 29718, 29721, 29738, 29740, 29741, 29744, 29753, 29756, 29761, 29764, 29765, 29768, 29770, 29772, 29776, 29782, 29783, 29784, 29786, 29788, 29800, 29808, 29813, 29815, 29832, 29841, 29849, 29850, 29853, 29859, 29860, 29862, 29868, 29879, 29886, 29900, 29914, 29923, 29928, 29931, 29946, 29963, 29972, 29977, 29978, 29988, 29989, 29991, 29994, 30000, 30003, 30015, 30023, 30024, 30030, 30034, 30040, 30057, 30062, 30084, 30085, 30097, 30098, 30100, 30105, 30116, 30120, 30153, 30164, 30166, 30183, 30184, 30187, 30189, 30190, 30195, 30201, 30205, 30208, 30210, 30212, 30213, 30239, 30244, 30245, 30247, 30249, 30251, 30268, 30280, 30281, 30285, 30290, 30295, 30296, 30302, 30313, 30315, 30328, 30350, 30353, 30354, 30360, 30374, 30382, 30389, 30400, 30412, 30417, 30421, 30422, 30445, 30446, 30476, 30496, 30500, 30508, 30509, 30522, 30523, 30524, 30528, 30546, 30550, 30552, 30559, 30564, 30568, 30572, 30573, 30574, 30575, 30603, 30606, 30610, 30611, 30612, 30617, 30619, 30627, 30638, 30640, 30644, 30648, 30658, 30660, 30677, 30693, 30694, 30720, 30740, 30745, 30747, 30750, 30751, 30756, 30763, 30766, 30781, 30784, 30789, 30797, 30800, 30803, 30815, 30819, 30824, 30826, 30839, 30841, 30842, 30854, 30862, 30874, 30882, 30896, 30902, 30910, 30912, 30913, 30916, 30917, 30918, 30931, 30940, 30947, 30948, 30966, 30970, 30982, 31000, 31002, 31006, 31008, 31012, 31017, 31029, 31032, 31034, 31068, 31071, 31090, 31102, 31108, 31114, 31118, 31134, 31135, 31144, 31154, 31156, 31162, 31169, 31170, 31180, 31188, 31190, 31210, 31215, 31219, 31221, 31235, 31239, 31243, 31246, 31248, 31252, 31256, 31266, 31269, 31272, 31287, 31293, 31296, 31297, 31305, 31309, 31313, 31315, 31316, 31317, 31319, 31321, 31322, 31326, 31327, 31340, 31345, 31350, 31353, 31358, 31369, 31375, 31376, 31378, 31380, 31390, 31397, 31399, 31401, 31404, 31407, 31409, 31410, 31419, 31422, 31433, 31437, 31452, 31455, 31458, 31473, 31482, 31502, 31522, 31540, 31544, 31546, 31556, 31566, 31568, 31570, 31573, 31574, 31579, 31582, 31588, 31596, 31602, 31612, 31630, 31647, 31674, 31676, 31677, 31684, 31686, 31694, 31714, 31726, 31729, 31735, 31737, 31758, 31780, 31798, 31806, 31826, 31834, 31838, 31854, 31856, 31860, 31877, 31894, 31896, 31900, 31932, 31934, 31935, 31940, 31944, 31946, 31950, 31955, 31958, 31962, 31974, 32001, 32007, 32020, 32026, 32030, 32045, 32050, 32062, 32100, 32120, 32122, 32142, 32146, 32148, 32152, 32162, 32167, 32172, 32176, 32190, 32203, 32206, 32218, 32228, 32238, 32244, 32249, 32257, 32258, 32264, 32269, 32271, 32288, 32302, 32308, 32309, 32312, 32321, 32322, 32325, 32334, 32338, 32343, 32347, 32351, 32354, 32364, 32372, 32375, 32381, 32384, 32405, 32406, 32410, 32411, 32419, 32464, 32470, 32476, 32481, 32493, 32494, 32498, 32505, 32509, 32510, 32517, 32526, 32531, 32550, 32578, 32593, 32594, 32597, 32600, 32608, 32622, 32638, 32645, 32652, 32663, 32668, 32689, 32690, 32696, 32702, 32704, 32705, 32706, 32756, 32760, 32772, 32789, 32790, 32794, 32806, 32811, 32856, 32858, 32874, 32900, 32902, 32906, 32910, 32912, 32934, 32940, 32947, 32948, 32952, 32958, 32968, 32990, 32999, 33000, 33006, 33022, 33040, 33050, 33076, 33086, 33088, 33104, 33118, 33134, 33152, 33168, 33176, 33194, 33203, 33206, 33214, 33222, 33232, 33240, 33249, 33252, 33254, 33264, 33268, 33286, 33306, 33307, 33314, 33322, 33330, 33332, 33337, 33342, 33345, 33353, 33355, 33358, 33361, 33375, 33386, 33400, 33404, 33424, 33425, 33427, 33432, 33433, 33442, 33446, 33450, 33451, 33456, 33459, 33461, 33463, 33467, 33474, 33478, 33483, 33494, 33497, 33502, 33508, 33510, 33540, 33544, 33546, 33550, 33558, 33560, 33565, 33572, 33578, 33588, 33598, 33606, 33607, 33613, 33614, 33616, 33640, 33644, 33650, 33658, 33665, 33670, 33685, 33695, 33700, 33702, 33704, 33708, 33721, 33727, 33728, 33729, 33732, 33736, 33738, 33740, 33742, 33745, 33760, 33761, 33772, 33781, 33788, 33802, 33806, 33808, 33812, 33819, 33820, 33832, 33834, 33842, 33846, 33851, 33876, 33888, 33896, 33910, 33918, 33922, 33926, 33944, 33962, 33964, 33966, 33970, 33986, 33988, 34002, 34026, 34032, 34036, 34056, 34060, 34062, 34066, 34078, 34090, 34105, 34128, 34130, 34132, 34134, 34136, 34172, 34184, 34210, 34216, 34226, 34250, 34254, 34258, 34260, 34282, 34301, 34320, 34324, 34326, 34358, 34364, 34368, 34370, 34374, 34380, 34382, 34386, 34394, 34395, 34400, 34404, 34419, 34445, 34450, 34466, 34474, 34482, 34494, 34506, 34516, 34522, 34528, 34532, 34543, 34575, 34586, 34588, 34590, 34594, 34596, 34626, 34629, 34634, 34644, 34650, 34651, 34654, 34687, 34691, 34694, 34701, 34704, 34718, 34724, 34743, 34747, 34761, 34764, 34775, 34776, 34778, 34782, 34783, 34790, 34816, 34817, 34824, 34840, 34844, 34856, 34858, 34862, 34877, 34908, 34912, 34924, 34928, 34929, 34932, 34936, 34950, 34955, 34965, 34967, 34972, 34976, 34980, 35004, 35009, 35011, 35018, 35022, 35025, 35026, 35028, 35032, 35060, 35071, 35074, 35092, 35093, 35102, 35112, 35114, 35142, 35152, 35156, 35163, 35168, 35187, 35214, 35224, 35237, 35248, 35263, 35277, 35283, 35286, 35292, 35298, 35309, 35315, 35317, 35321, 35334, 35338, 35339, 35346, 35350, 35354, 35360, 35371, 35383, 35388, 35389, 35391, 35415, 35425, 35427, 35429, 35448, 35450, 35478, 35482, 35491, 35496, 35498, 35499, 35504, 35542, 35548, 35590, 35616, 35630, 35631, 35646, 35650, 35660, 35665, 35666, 35667, 35683, 35702, 35710, 35714, 35718, 35728, 35730, 35734, 35752, 35762, 35766, 35768, 35778, 35783, 35786, 35792, 35806, 35807, 35808, 35836, 35882, 35884, 35886, 35916, 35926, 35934, 35938, 35948, 35950, 35960, 35962, 35969, 35970, 35978, 35986, 35989, 36000, 36018, 36034, 36035, 36039, 36060, 36061, 36068, 36078, 36080, 36083, 36086, 36098, 36109, 36113, 36125, 36126, 36156, 36170, 36175, 36176, 36181, 36193, 36205, 36210, 36216, 36218, 36219, 36224, 36226, 36247, 36252, 36258, 36260, 36273, 36283, 36292, 36296, 36297, 36302, 36303, 36306, 36313, 36314, 36317, 36327, 36339, 36350, 36359, 36365, 36368, 36369, 36380, 36386, 36388, 36389, 36416, 36422, 36423, 36432, 36433, 36436, 36438, 36446, 36449, 36455, 36457, 36469, 36474, 36490, 36499, 36505, 36508, 36509, 36533, 36536, 36552, 36558, 36580, 36590, 36592, 36596, 36604, 36612, 36620, 36621, 36625, 36634, 36650, 36658, 36664, 36673, 36678, 36693, 36710, 36716, 36718, 36721, 36734, 36738, 36755, 36764, 36768, 36808, 36810, 36812, 36821, 36826, 36834, 36840, 36852, 36862, 36874, 36875, 36883, 36886, 36888, 36891, 36892, 36896, 36904, 36924, 36938, 36940, 36950, 36952, 36955, 36964, 36966, 36980, 36982, 36990, 37012, 37022, 37034, 37042, 37046, 37047, 37054, 37058, 37082, 37095, 37119, 37130, 37150, 37152, 37153, 37156, 37175, 37212, 37216, 37221, 37230, 37231, 37239, 37243, 37263, 37270, 37274, 37278, 37308, 37309, 37314, 37318, 37367, 37377, 37393, 37410, 37420, 37424, 37426, 37453, 37465, 37467, 37475, 37476, 37477, 37482, 37486, 37498, 37504, 37505, 37522, 37526, 37538, 37556, 37578, 37600, 37602, 37614, 37626, 37660, 37672, 37674, 37678, 37680, 37691, 37695, 37698, 37712, 37744, 37758, 37798, 37820, 37822, 37832, 37844, 37882, 37886, 37889, 37890, 37898, 37900, 37931, 37936, 37958, 37962, 37964, 37966, 37981, 37992, 38000, 38016, 38018, 38022, 38023, 38030, 38044, 38051, 38062, 38066, 38084, 38086, 38108, 38130, 38139, 38141, 38144, 38155, 38160, 38164, 38167, 38172, 38174, 38181, 38184, 38194, 38199, 38201, 38205, 38209, 38210, 38217, 38218, 38220, 38227, 38229, 38236, 38242, 38244, 38247, 38255, 38256, 38257, 38259, 38273, 38277, 38284, 38297, 38300, 38305, 38311, 38315, 38318, 38323, 38324, 38325, 38329, 38334, 38338, 38341, 38342, 38351, 38357, 38374, 38380, 38382, 38402, 38413, 38420, 38426, 38446, 38449, 38458, 38461, 38500, 38527, 38531, 38539, 38542, 38556, 38562, 38568, 38573, 38580, 38583, 38602, 38605, 38608, 38613, 38628, 38632, 38636, 38650, 38651, 38653, 38671, 38676, 38677, 38678, 38679, 38693, 38704, 38706, 38718, 38720, 38722, 38758, 38763, 38764, 38765, 38773, 38775, 38777, 38785, 38791, 38799, 38804, 38809, 38813, 38815, 38821, 38826, 38829, 38842, 38843, 38845, 38851, 38852, 38862, 38863, 38878, 38882, 38894, 38895, 38898, 38899, 38901, 38912, 38922, 38930, 38946, 38964, 38976, 38984, 39000, 39030, 39036, 39038, 39044, 39046, 39059, 39069, 39084, 39102, 39130, 39140, 39164, 39168, 39180, 39188, 39198, 39204, 39224, 39278, 39282, 39286, 39291, 39292, 39310, 39356, 39358, 39366, 39392, 39394, 39418, 39424, 39430, 39448, 39458, 39470, 39476, 39516, 39520, 39524, 39536, 39542, 39544, 39546, 39554, 39560, 39564, 39567, 39578, 39608, 39620, 39652, 39675, 39686, 39687, 39705, 39706, 39728, 39729, 39752, 39766, 39782, 39798, 39803, 39805, 39807, 39830, 39840, 39842, 39855, 39864, 39868, 39876, 39877, 39881, 39894, 39902, 39903, 39910, 39912, 39916, 39918, 39920, 39938, 39948, 39960, 39978, 39979, 39992, 39994, 39998, 40002, 40006, 40008, 40010, 40013, 40033, 40047, 40080, 40090, 40096, 40100, 40104, 40118, 40134, 40141, 40164, 40166, 40174, 40176, 40184, 40187, 40190, 40195, 40199, 40227, 40234, 40249, 40254, 40258, 40261, 40266, 40271, 40277, 40278, 40283, 40296, 40303, 40310, 40316, 40322, 40326, 40334, 40339, 40353, 40362, 40364, 40407, 40409, 40410, 40415, 40437, 40440, 40444, 40460, 40462, 40463, 40467, 40468, 40472, 40478, 40489, 40490, 40494, 40502, 40514, 40518, 40522, 40526, 40539, 40544, 40556, 40599, 40604, 40605, 40610, 40621, 40622, 40627, 40635, 40642, 40656, 40664, 40669, 40670, 40672, 40673, 40679, 40681, 40716, 40722, 40732, 40750, 40760, 40782, 40804, 40810, 40818, 40824, 40829, 40842, 40859, 40862, 40865, 40878, 40882, 40898, 40899, 40904, 40920, 40929, 40932, 40942, 40951, 40952, 40978, 40983, 40988, 40997, 40999, 41006, 41008, 41012, 41014, 41017, 41025, 41040, 41042, 41048, 41053, 41054, 41067, 41078, 41080, 41081, 41090, 41095, 41099, 41106, 41111, 41113, 41116, 41132, 41133, 41149, 41154, 41155, 41157, 41169, 41192, 41212, 41214, 41217, 41229, 41236, 41237, 41240, 41243, 41244, 41247, 41254, 41255, 41256, 41264, 41265, 41278, 41283, 41284, 41290, 41297, 41309, 41315, 41326, 41328, 41329, 41332, 41334, 41336, 41337, 41338, 41354, 41357, 41366, 41367, 41372, 41377, 41378, 41379, 41381, 41391, 41397, 41403, 41404, 41408, 41409, 41413, 41422, 41426, 41429, 41433, 41438, 41441, 41466, 41492, 41522, 41524, 41542, 41562, 41569, 41570, 41571, 41578, 41582, 41587, 41588, 41598, 41602, 41603, 41634, 41646, 41660, 41670, 41674, 41682, 41699, 41705, 41726, 41728, 41738, 41744, 41754, 41760, 41766, 41778, 41780, 41784, 41786, 41791, 41792, 41798, 41814, 41824, 41831, 41833, 41841, 41845, 41853, 41854, 41861, 41872, 41873, 41886, 41887, 41888, 41890, 41892, 41894, 41904, 41908, 41912, 41915, 41927, 41934, 41942, 41943, 41951, 41956, 41959, 41962, 41969, 41972, 41978, 41980, 41991, 41995, 41997, 41999, 42009, 42021, 42023, 42026, 42052, 42074, 42076, 42080, 42092, 42098, 42100, 42106, 42108, 42126, 42138, 42145, 42148, 42154, 42156, 42162, 42168, 42172, 42190, 42210, 42218, 42228, 42230, 42234, 42246, 42270, 42272, 42325, 42334, 42342, 42370, 42374, 42383, 42410, 42418, 42434, 42444, 42460, 42462, 42474, 42488, 42536, 42540, 42558, 42560, 42570, 42572, 42592, 42602, 42611, 42616, 42620, 42631, 42640, 42682, 42683, 42688, 42693, 42696, 42711, 42718, 42722, 42723, 42738, 42756, 42770, 42774, 42797, 42798, 42803, 42806, 42809, 42830, 42838, 42843, 42844, 42850, 42852, 42853, 42861, 42865, 42886, 42908, 42932, 42944, 42946, 42952, 42958, 42981, 42991, 43000, 43002, 43005, 43006, 43009, 43023, 43028, 43031, 43037, 43049, 43057, 43063, 43067, 43068, 43072, 43074, 43088, 43093, 43102, 43113, 43123, 43127, 43130, 43132, 43134, 43136, 43137, 43140, 43150, 43152, 43161, 43162, 43167, 43170, 43183, 43187, 43194, 43200, 43201, 43207, 43208, 43220, 43227, 43228, 43238, 43240, 43245, 43249, 43265, 43278, 43282, 43283, 43290, 43296, 43316, 43319, 43324, 43328, 43332, 43342, 43344, 43356, 43362, 43384, 43390, 43408, 43434, 43446, 43454, 43455, 43470, 43486, 43524, 43538, 43540, 43544, 43552, 43574, 43584, 43598, 43632, 43636, 43646, 43647, 43648, 43653, 43667, 43727, 43730, 43737, 43739, 43748, 43765, 43766, 43798, 43803, 43804, 43818, 43821, 43826, 43844, 43854, 43859, 43861, 43869, 43882, 43903, 43905, 43912, 43916, 43917, 43924, 43926, 43933, 43943, 43946, 43947, 43948, 43956, 43962, 43964, 43969, 43970, 43972, 43979, 43989, 43999, 44008, 44014, 44016, 44017, 44018, 44021, 44024, 44043, 44068, 44071, 44080, 44081, 44083, 44085, 44101, 44103, 44107, 44112, 44138, 44144, 44145, 44150, 44152, 44156, 44166, 44170, 44174, 44204, 44225, 44234, 44244, 44248, 44276, 44289, 44296, 44308, 44314, 44322, 44326, 44328, 44339, 44340, 44341, 44343, 44346, 44354, 44356, 44358, 44372, 44382, 44386, 44396, 44398, 44401, 44402, 44409, 44420, 44426, 44428, 44432, 44464, 44466, 44474, 44475, 44476, 44486, 44487, 44497, 44502, 44514, 44516, 44522, 44544, 44552, 44554, 44555, 44556, 44558, 44587, 44592, 44599, 44604, 44636, 44640, 44646, 44649, 44658, 44672, 44673, 44674, 44684, 44700, 44701, 44707, 44708, 44713, 44722, 44724, 44748, 44764, 44765, 44768, 44775, 44776, 44778, 44784, 44787, 44788, 44801, 44803, 44811, 44817, 44824, 44825, 44844, 44850, 44853, 44854, 44864, 44868, 44872, 44888, 44891, 44892, 44901, 44921, 44933, 44936, 44937, 44940, 44945, 44958, 44970, 44980, 44988, 44991, 45008, 45015, 45018, 45022, 45026, 45046, 45063, 45087, 45094, 45100, 45103, 45111, 45112, 45116, 45137, 45141, 45143, 45146, 45147, 45148, 45158, 45169, 45171, 45174, 45184, 45188, 45196, 45198, 45200, 45212, 45214, 45216, 45219, 45224, 45236, 45238, 45248, 45254, 45256, 45267, 45268, 45269, 45270, 45273, 45279, 45284, 45301, 45306, 45319, 45323, 45324, 45326, 45328, 45332, 45335, 45341, 45347, 45348, 45367, 45380, 45398, 45404, 45424, 45429, 45430, 45455, 45467, 45473, 45476, 45480, 45484, 45496, 45512, 45516, 45523, 45526, 45532, 45540, 45541, 45543, 45547, 45548, 45552, 45558, 45589, 45592, 45598, 45609, 45614, 45626, 45629, 45634, 45636, 45642, 45646, 45674, 45676, 45706, 45715, 45720, 45732, 45743, 45753, 45757, 45760, 45784, 45787, 45790, 45806, 45818, 45838, 45841, 45846, 45858, 45876, 45896, 45904, 45908, 45920, 45934, 45936, 45956, 45970, 45994, 46000, 46022, 46040, 46042, 46080, 46107, 46111, 46115, 46117, 46118, 46120, 46127, 46134, 46137, 46146, 46147, 46150, 46155, 46160, 46161, 46163, 46164, 46174, 46178, 46183, 46191, 46197, 46205, 46217, 46219, 46220, 46221, 46222, 46240, 46258, 46261, 46265, 46276, 46283, 46287, 46303, 46321, 46345, 46350, 46358, 46373, 46374, 46379, 46392, 46394, 46396, 46406, 46414, 46458, 46460, 46487, 46492, 46494, 46497, 46500, 46507, 46513, 46515, 46518, 46528, 46531, 46535, 46546, 46551, 46575, 46589, 46590, 46591, 46619, 46623, 46632, 46637, 46641, 46646, 46647, 46649, 46653, 46662, 46668, 46680, 46681, 46692, 46726, 46728, 46740, 46744, 46766, 46770, 46783, 46785, 46812, 46813, 46818, 46825, 46826, 46830, 46834, 46836, 46846, 46852, 46862, 46865, 46866, 46879, 46888, 46906, 46908, 46914, 46918, 46920, 46931, 46938, 46945, 46955, 46958, 46966, 46970, 46990, 46995, 46998, 47002, 47003, 47054, 47063, 47066, 47079, 47093, 47098, 47106, 47130, 47158, 47170, 47172, 47178, 47179, 47181, 47182, 47188, 47202, 47211, 47214, 47219, 47223, 47227, 47249, 47256, 47258, 47260, 47272, 47278, 47280, 47282, 47284, 47286, 47297, 47337, 47354, 47375, 47382, 47386, 47394, 47398, 47407, 47412, 47421, 47422, 47424, 47446, 47484, 47486, 47494, 47506, 47518, 47519, 47542, 47546, 47549, 47553, 47562, 47568, 47581, 47606, 47612, 47634, 47652, 47660, 47666, 47692, 47700, 47702, 47706, 47762, 47772, 47788, 47790, 47794, 47799, 47805, 47812, 47815, 47817, 47819, 47821, 47833, 47838, 47846, 47853, 47857, 47859, 47866, 47868, 47871, 47873, 47875, 47885, 47891, 47902, 47905, 47906, 47909, 47912, 47914, 47921, 47929, 47940, 47941, 47956, 47957, 47964, 47966, 47967, 47970, 47977, 47991, 47994, 48002, 48006, 48028, 48030, 48032, 48049, 48060, 48063, 48064, 48082, 48088, 48100, 48104, 48106, 48115, 48122, 48126, 48128, 48129, 48142, 48190, 48202, 48216, 48218, 48224, 48248, 48266, 48275, 48278, 48306, 48310, 48314, 48316, 48327, 48338, 48366, 48372, 48373, 48376, 48382, 48387, 48388, 48390, 48393, 48394, 48397, 48399, 48406, 48409, 48414, 48415, 48417, 48419, 48425, 48429, 48441, 48443, 48445, 48449, 48455, 48463, 48473, 48474, 48486, 48489, 48498, 48507, 48513, 48516, 48518, 48534, 48546, 48548, 48550, 48556, 48562, 48572, 48574, 48583, 48588, 48590, 48598, 48602, 48626, 48628, 48640, 48641, 48669, 48672, 48684, 48704, 48709, 48722, 48724, 48738, 48741, 48759, 48782, 48789, 48790, 48792, 48793, 48804, 48805, 48813, 48823, 48826, 48828, 48837, 48838, 48855, 48860, 48869, 48879, 48885, 48887, 48898, 48905, 48906, 48907, 48909, 48925, 48949, 48954, 48959, 48974, 48978, 48984, 48987, 48988, 48990, 48994, 48999, 49016, 49020, 49034, 49044, 49074, 49078, 49080, 49084, 49086, 49096, 49101, 49112, 49123, 49128, 49129, 49136, 49139, 49146, 49148, 49156, 49176, 49179, 49194, 49206, 49207, 49208, 49220, 49222, 49227, 49229, 49240, 49242, 49248, 49249, 49255, 49259, 49266, 49269, 49271, 49287, 49291, 49310, 49314, 49317, 49318, 49324, 49326, 49331, 49333, 49359, 49361, 49362, 49394, 49400, 49406, 49414, 49422, 49428, 49437, 49444, 49454, 49456, 49460, 49471, 49472, 49474, 49476, 49483, 49484, 49487, 49491, 49507, 49512, 49525, 49532, 49534, 49539, 49544, 49548, 49559, 49573, 49587, 49595, 49598, 49601, 49603, 49611, 49614, 49628, 49637, 49643, 49652, 49656, 49664, 49666, 49677, 49679, 49682, 49700, 49701, 49706, 49719, 49724, 49736, 49737, 49741, 49756, 49758, 49781, 49786, 49789, 49790, 49796, 49798, 49808, 49817, 49836, 49864, 49880, 49892, 49918, 49938, 49946, 49947, 49954, 49958, 49971, 49973, 49977, 49994, 50000, 50002, 50006, 50011, 50030, 50044, 50048, 50058, 50064, 50072, 50076, 50080, 50094, 50127, 50130, 50139, 50140, 50142, 50148, 50164, 50174, 50180, 50200, 50204, 50214, 50215, 50220, 50230, 50237, 50243, 50254, 50262, 50271, 50288, 50294, 50308, 50314, 50332, 50338, 50346, 50355, 50364, 50366, 50376, 50392, 50398, 50408, 50412, 50422, 50426, 50428, 50430, 50452, 50470, 50471, 50500, 50514, 50520, 50546, 50552, 50560, 50568, 50575, 50586, 50598, 50608, 50622, 50628, 50640, 50659, 50664, 50670, 50680, 50700, 50703, 50704, 50738, 50740, 50742, 50752, 50754, 50761, 50763, 50772, 50786, 50790, 50794, 50803, 50804, 50824, 50844, 50846, 50850, 50854, 50858, 50864, 50870, 50886, 50887, 50888, 50890, 50891, 50904, 50912, 50914, 50922, 50933, 50970, 50983, 50986, 50991, 50996, 50997, 50999, 51004, 51006, 51009, 51015, 51021, 51027, 51029, 51034, 51038, 51044, 51052, 51060, 51063, 51066, 51072, 51073, 51088, 51097, 51108, 51110, 51118, 51125, 51136, 51141, 51145, 51146, 51147, 51166, 51172, 51175, 51179, 51180, 51186, 51190, 51194, 51206, 51224, 51226, 51258, 51290, 51292, 51294, 51299, 51304, 51322, 51339, 51342, 51352, 51364, 51378, 51417, 51444, 51448, 51482, 51492, 51504, 51508, 51510, 51544, 51550, 51574, 51586, 51590, 51599, 51607, 51613, 51618, 51627, 51638, 51640, 51666, 51669, 51685, 51690, 51700, 51705, 51708, 51712, 51714, 51726, 51728, 51751, 51762, 51769, 51770, 51776, 51784, 51786, 51794, 51796, 51799, 51807, 51810, 51814, 51818, 51822, 51823, 51828, 51832, 51836, 51838, 51853, 51859, 51868, 51871, 51872, 51875, 51881, 51886, 51887, 51896, 51910, 51913, 51915, 51917, 51919, 51922, 51929, 51936, 51944, 51963, 51976, 51983, 52013, 52014, 52020, 52048, 52050, 52056, 52058, 52068, 52070, 52081, 52096, 52098, 52116, 52118, 52144, 52146, 52148, 52160, 52180, 52209, 52229, 52232, 52242, 52270, 52298, 52308, 52333, 52357, 52361, 52362, 52370, 52374, 52376, 52379, 52382, 52388, 52391, 52392, 52397, 52407, 52408, 52428, 52429, 52430, 52442, 52447, 52452, 52456, 52458, 52467, 52470, 52474, 52476, 52478, 52485, 52490, 52523, 52530, 52538, 52541, 52545, 52553, 52554, 52556, 52580, 52582, 52603, 52613, 52618, 52623, 52631, 52636, 52640, 52654, 52659, 52667, 52706, 52707, 52738, 52744, 52754, 52756, 52767, 52772, 52773, 52783, 52790, 52800, 52802, 52803, 52809, 52810, 52811, 52828, 52838, 52854, 52876, 52879, 52897, 52899, 52902, 52911, 52924, 52926, 52928, 52930, 52935, 52937, 52938, 52944, 52954, 52956, 52962, 52965, 52974, 52982, 52992, 52997, 53004, 53006, 53009, 53012, 53030, 53061, 53078, 53084, 53090, 53091, 53095, 53108, 53150, 53164, 53188, 53196, 53277, 53278, 53285, 53294, 53295, 53325, 53327, 53332, 53340, 53348, 53352, 53370, 53381, 53398, 53406, 53408, 53409, 53420, 53421, 53424, 53426, 53430, 53442, 53450, 53454, 53456, 53474, 53478, 53482, 53486, 53496, 53506, 53512, 53516, 53524, 53528, 53546, 53548, 53550, 53554, 53574, 53586, 53602, 53607, 53611, 53656, 53662, 53677, 53682, 53688, 53694, 53695, 53714, 53719, 53736, 53748, 53778, 53779, 53780, 53783, 53792, 53796, 53809, 53810, 53813, 53816, 53818, 53819, 53828, 53836, 53848, 53849, 53850, 53854, 53858, 53870, 53875, 53877, 53881, 53896, 53911, 53915, 53922, 53934, 53942, 53952, 53954, 53955, 53964, 53982, 54008, 54016, 54028, 54048, 54053, 54056, 54088, 54090, 54094, 54096, 54106, 54144, 54150, 54163, 54164, 54168, 54194, 54196, 54198, 54210, 54211, 54212, 54214, 54230, 54236, 54240, 54252, 54253, 54268, 54288, 54289, 54318, 54324, 54326, 54332, 54338, 54350, 54358, 54368, 54372, 54381, 54388, 54396, 54405, 54413, 54447, 54462, 54478, 54480, 54486, 54498, 54504, 54512, 54526, 54542, 54548, 54552, 54588, 54594, 54615, 54622, 54627, 54629, 54630, 54638, 54639, 54658, 54662, 54692, 54702, 54707, 54734, 54736, 54762, 54770, 54776, 54786, 54796, 54806, 54814, 54858, 54862, 54870, 54874, 54901, 54904, 54914, 54922, 54924, 54954, 54956, 54966, 54978, 54982, 54990, 54998, 55008, 55030, 55034, 55045, 55046, 55068, 55088, 55108, 55110, 55112, 55113, 55120, 55124, 55129, 55154, 55168, 55175, 55188, 55192, 55200, 55205, 55213, 55220, 55230, 55234, 55248, 55264, 55266, 55280, 55287, 55291, 55297, 55301, 55312, 55320, 55327, 55352, 55357, 55364, 55372, 55374, 55380, 55382, 55387, 55394, 55430, 55476, 55485, 55490, 55494, 55496, 55500, 55514, 55521, 55522, 55523, 55536, 55543, 55545, 55546, 55554, 55555, 55564, 55572, 55573, 55617, 55623, 55637, 55642, 55648, 55654, 55673, 55674, 55700, 55708, 55713, 55718, 55726, 55738, 55739, 55742, 55755, 55769, 55774, 55776, 55778, 55786, 55790, 55814, 55839, 55890, 55892, 55904, 55921, 55940, 55941, 55954, 55970, 55976, 55982, 55986, 55990, 56014, 56028, 56044, 56056, 56059, 56065, 56080, 56116, 56124, 56128, 56134, 56140, 56144, 56156, 56162, 56170, 56202, 56208, 56212, 56224, 56227, 56234, 56235, 56236, 56242, 56245, 56255, 56279, 56280, 56292, 56304, 56309, 56350, 56362, 56365, 56372, 56374, 56379, 56385, 56386, 56407, 56414, 56432, 56457, 56466, 56474, 56498, 56508, 56510, 56524, 56528, 56538, 56543, 56562, 56567, 56583, 56586, 56598, 56601, 56610, 56613, 56614, 56618, 56628, 56629, 56630, 56631, 56632, 56637, 56647, 56655, 56666, 56693, 56707, 56708, 56722, 56726, 56736, 56737, 56757, 56761, 56762, 56763, 56769, 56780, 56794, 56795, 56796, 56800, 56801, 56809, 56822, 56843, 56844, 56845, 56850, 56854, 56856, 56876, 56882, 56900, 56914, 56922, 56948, 56950, 56972, 56986, 56994, 57001, 57005, 57019, 57059, 57068, 57116, 57126, 57137, 57139, 57146, 57158, 57175, 57178, 57216, 57224, 57279, 57281, 57288, 57290, 57301, 57303, 57313, 57330, 57335, 57339, 57364, 57369, 57370, 57371, 57418, 57435, 57443, 57477, 57484, 57487, 57495, 57496, 57499, 57522, 57546, 57548, 57549, 57560, 57563, 57592, 57609, 57648, 57675, 57693, 57703, 57712, 57732, 57771, 57774, 57781, 57792, 57861, 57894, 57946, 58001, 58028, 58039, 58058, 58061, 58096, 58102, 58126, 58157, 58186, 58189, 58191, 58194, 58197, 58203, 58209, 58212, 58214, 58221, 58240, 58243, 58244, 58254, 58256, 58261, 58267, 58268, 58280, 58283, 58286, 58290, 58295, 58299, 58301, 58329, 58330, 58333, 58340, 58346, 58347, 58358, 58432, 58462, 58490, 58498, 58518, 58553, 58560, 58570, 58601, 58608, 58616, 58618, 58619, 58620, 58626, 58631, 58634, 58635, 58647, 58666, 58683, 58815, 58819, 58828, 58834, 58842, 58848, 58908, 58911, 58944, 58952, 58953, 58954, 58959, 58961, 58962, 58965, 58966, 58973, 58977, 58997, 59042, 59049, 59051, 59052, 59064, 59093, 59111, 59117, 59118, 59130, 59133, 59141, 59143, 59145, 59147, 59150, 59161, 59168, 59170, 59183, 59190, 59203, 59204, 59213, 59218, 59220, 59221, 59238, 59241, 59249, 59252, 59262, 59276, 59281, 59286, 59302, 59303, 59306, 59321, 59329, 59333, 59343, 59345, 59348, 59349, 59357, 59360, 59361, 59364, 59368, 59379, 59383, 59386, 59395, 59407, 59411, 59413, 59414, 59415, 59419, 59424, 59431, 59432, 59442, 59443, 59447, 59449, 59451, 59452, 59453, 59465, 59471, 59472, 59478, 59482, 59491, 59497, 59504, 59505, 59510, 59512, 59513, 59524, 59527, 59528, 59529, 59538, 59546, 59553, 59559, 59561, 59568, 59571, 59584, 59591, 59592, 59607, 59612, 59617, 59620, 59626, 59634, 59640, 59648, 59660, 59679, 59680, 59687, 59691, 59695, 59700, 59701, 59708, 59710, 59739, 59744, 59772, 59777, 59781, 59782, 59790, 59793, 59798, 59824, 59826, 59837, 59838, 59844, 59847, 59850, 59851, 59852, 59857, 59859, 59865, 59875, 59882, 59898, 59914, 59915, 59917, 59922, 59928, 59932, 59950, 59962, 59968, 59978, 59991, 59999, 60001, 60007, 60009, 60012, 60014, 60019, 60024, 60025, 60031, 60035, 60049, 60053, 60056, 60057, 60059, 60066, 60069, 60073, 60081, 60085, 60091, 60092, 60094, 60098, 60100, 60102, 60104, 60106, 60121, 60124, 60126, 60128, 60134, 60142, 60143, 60147, 60148, 60151, 60152, 60156, 60159, 60166, 60167, 60170, 60172, 60181, 60183, 60189, 60190, 60193, 60199, 60208, 60210, 60212, 60215, 60219, 60225, 60226, 60227, 60228, 60230, 60232, 60237, 60256, 60262, 60278, 60283, 60284, 60291, 60293, 60294, 60302, 60304, 60309, 60310, 60315, 60321, 60325, 60341, 60344, 60353, 60363, 60366, 60367, 60369, 60372, 60400, 60422, 60425, 60427, 60430, 60431, 60445, 60449, 60453, 60456, 60459, 60462, 60467, 60469, 60471, 60481, 60487, 60496, 60500, 60509, 60511, 60514, 60518, 60521, 60525, 60526, 60528, 60534, 60540, 60541, 60572, 60581, 60584, 60586, 60596, 60598, 60609, 60616, 60617, 60618, 60621, 60622, 60627, 60633, 60637, 60641, 60648, 60654, 60658, 60659, 60661, 60665, 60674, 60681, 60682, 60689, 60690, 60693, 60698, 60701, 60708, 60713, 60722, 60728, 60740, 60750, 60755, 60756, 60757, 60771, 60778, 60780, 60789, 60799, 60800, 60801, 60811, 60813, 60830, 60840, 60848, 60852, 60856, 60865, 60868, 60869, 60870, 60873, 60876, 60901, 60909, 60916, 60921, 60924, 60935, 60937, 60940, 60943, 60944, 60947, 60952, 60953, 60957, 60963, 60968, 60969, 60970, 60973, 60993, 60994, 60995, 60998, 60999, 61007, 61009, 61015, 61018, 61029, 61030, 61034, 61035, 61038, 61044, 61045, 61048, 61049, 61051, 61062, 61074, 61077, 61082, 61085, 61086, 61089, 61097, 61101, 61102, 61115, 61124, 61125, 61127, 61129, 61132, 61133, 61137, 61163, 61166, 61172, 61184, 61186, 61193, 61199, 61231, 61237, 61242, 61251, 61269, 61271, 61280, 61281, 61286, 61287, 61293, 61295, 61304, 61306, 61314, 61322, 61323, 61333, 61345, 61347, 61349, 61388, 61415, 61432, 61433, 61434, 61435, 61442, 61445, 61460, 61464, 61473, 61474, 61489, 61494, 61498, 61507, 61510, 61531, 61535, 61536, 61548, 61554, 61558, 61584, 61598, 61605, 61613, 61628, 61635, 61644, 61645, 61650, 61651, 61656, 61658, 61670, 61671, 61680, 61690, 61697, 61700, 61705, 61710, 61726, 61734, 61766, 61796, 61801, 61814, 61819, 61820, 61821, 61825, 61827, 61838, 61839, 61845, 61846, 61852, 61853, 61890, 61895, 61898, 61904, 61905, 61949, 61960, 61965, 61973, 61978, 62008, 62010, 62012, 62014, 62017, 62023, 62030, 62031, 62036, 62038, 62045, 62057, 62060, 62067, 62076, 62081, 62104, 62105, 62106, 62107, 62118, 62125, 62140, 62152, 62169, 62170, 62180, 62182, 62184, 62189, 62200, 62202, 62203, 62207, 62211, 62216, 62219, 62229, 62230, 62233, 62234, 62241, 62263, 62269, 62276, 62281, 62284, 62285, 62288, 62294, 62304, 62305, 62310, 62316, 62329, 62336, 62337, 62347, 62348, 62350, 62360, 62373, 62375, 62390, 62403, 62420, 62425, 62458, 62467, 62473, 62480, 62491, 62497, 62499, 62504, 62514, 62529, 62535, 62536, 62545, 62558, 62562, 62564, 62602, 62616, 62618, 62622, 62623, 62625, 62626, 62627, 62630, 62632, 62638, 62639, 62642, 62648, 62649, 62650, 62651, 62657, 62662, 62663, 62666, 62667, 62669, 62676, 62678, 62680, 62685, 62691, 62696, 62701, 62706, 62708, 62711, 62717, 62720, 62721, 62732, 62734, 62735, 62738, 62746, 62750, 62753, 62755, 62762, 62779, 62784, 62793, 62806, 62818, 62826, 62827, 62838, 62841, 62851, 62854, 62855, 62862, 62864, 62866, 62876, 62894, 62895, 62900, 62902, 62907, 62917, 62944, 62956, 62959, 62963, 62965, 62968, 62975, 62976, 62978, 62986, 62993, 63002, 63011, 63016, 63035, 63039, 63040, 63041, 63045, 63052, 63054, 63063, 63076, 63094, 63101, 63103, 63105, 63111, 63112, 63115, 63121, 63124, 63130, 63138, 63140, 63148, 63156, 63165, 63171, 63172, 63177, 63184, 63189, 63193, 63197, 63200, 63206, 63211, 63213, 63234, 63244, 63255, 63259, 63273, 63280, 63295, 63297, 63305, 63308, 63333, 63335, 63338, 63339, 63343, 63349, 63351, 63354, 63365, 63377, 63383, 63397, 63398, 63400, 63409, 63411, 63414, 63421, 63440, 63448, 63452, 63467, 63471, 63501, 63505, 63520, 63530, 63535, 63539, 63557, 63559, 63562, 63565, 63571, 63579, 63581, 63599, 63603, 63612, 63623, 63624, 63637, 63643, 63648, 63651, 63683, 63685, 63694, 63707, 63708, 63710, 63714, 63716, 63723, 63725, 63727, 63728, 63737, 63738, 63752, 63754, 63763, 63774, 63776, 63779, 63780, 63786, 63788, 63790, 63796, 63828, 63843, 63850, 63856, 63866, 63868, 63890, 63898, 63901, 63915, 63946, 63967, 63968, 63978, 63984, 63986, 64035, 64040, 64059, 64065, 64076, 64083, 64109, 64137, 64178, 64188, 64193, 64229, 64231, 64260, 64279, 64280, 64282, 64309, 64311, 64358, 64395, 64422, 64423, 64433, 64456, 64460, 64461, 64462, 64469, 64496, 64501, 64523, 64539, 64544, 64549, 64550, 64563, 64587, 64588, 64609, 64614, 64615, 64634, 64669, 64724, 64741, 64758, 64766, 64778, 64787, 64788, 64791, 64797, 64813, 64814, 64822, 64826, 64836, 64837, 64846, 64855, 64872, 64875, 64881, 64885, 64886, 64897, 64900, 64904, 64913, 64921, 64924, 64935, 64937, 64942, 64953, 64959, 64965, 64970, 64971, 64980, 64981, 64985, 64991, 65003, 65012, 65024, 65026, 65039, 65046, 65057, 65060, 65061, 65066, 65068, 65072, 65073, 65078, 65127, 65224, 65231, 65291, 65292, 65295, 65318, 65325, 65358, 65395, 65405, 65417, 65431, 65455, 65458, 65460, 65464, 65469, 65471, 65476, 65496, 65497, 65503, 65517, 65525, 65532, 65541, 65551, 65568, 65577, 65588, 65594, 65621, 65625, 65644, 65646, 65661, 65668, 65675, 65680, 65683, 65685, 65701, 65702, 65727, 65736, 65740, 65747, 65754, 65772, 65778, 65798, 65806, 65809, 65819, 65824, 65826, 65890, 65897, 65902, 65932, 65977, 65990, 65994, 66002, 66008, 66017, 66021, 66030, 66057, 66070, 66082, 66098, 66108, 66112, 66116, 66133, 66148, 66162, 66165, 66193, 66220, 66233, 66238, 66294, 66332, 66334, 66336, 66351, 66362, 66372, 66439, 66464, 66495, 66537, 66541, 66592, 66609, 66612, 66632, 66679, 66697, 66700, 66712, 66721, 66739, 66747, 66749, 66751, 66756, 66758, 66760, 66775, 66776, 66786, 66799, 66800, 66802, 66805, 66811, 66815, 66816, 66820, 66828, 66845, 66851, 66882, 66890, 66915, 66961, 66962, 66972, 66981, 66991, 66994, 66995, 67012, 67015, 67065, 67098, 67144, 67172, 67176, 67179, 67194, 67196, 67197, 67226, 67239, 67262, 67297, 67308, 67310, 67356, 67372, 67376, 67393, 67409, 67420, 67422, 67427, 67430, 67453, 67507, 67524, 67539, 67763, 67767, 67854, 67906, 67908, 67909, 67915, 67916, 67919, 67924, 67931, 67936, 67945, 67968, 67971, 67984, 68012, 68016, 68019, 68033, 68036, 68063, 68073, 68109, 68111, 68117, 68177, 68180, 68209, 68215, 68217, 68282, 68316, 68333, 68346, 68356, 68375, 68434, 68438, 68464, 68488, 68507, 68534, 68542, 68555, 68562, 68580, 68598, 68600, 68616, 68619, 68626, 68629, 68638, 68641, 68645, 68649, 68651, 68652, 68664, 68668, 68670, 68679, 68681, 68682, 68692, 68708, 68711, 68714, 68731, 68732, 68739, 68741, 68747, 68753, 68756, 68767, 68777, 68783, 68790, 68791, 68793, 68804, 68805, 68822, 68825, 68840, 68843, 68844, 68853, 68859, 68875, 68882, 68885, 68886]\n",
            "score Random Forest avant entrainement:  0.8830188679245283\n"
          ]
        }
      ],
      "source": [
        "\n",
        "X_train=np.array(X_train)\n",
        "y_train=np.array(y_train)\n",
        "shuffle_idx =np.random.permutation(len (X_train))\n",
        "from sklearn.ensemble import RandomForestClassifier\n",
        "rf=RandomForestClassifier(n_estimators=100)\n",
        "\n",
        "X_train = X_train[shuffle_idx]\n",
        "y_train = y_train[shuffle_idx]\n",
        "rf.fit(X_train,y_train)\n",
        "preds=rf.predict(X_test)\n",
        "print(preds)\n",
        "print(y_test)\n",
        "print(len(preds))\n",
        "count=0\n",
        "lsda=[]\n",
        "for i in range(len(preds)):\n",
        "  if preds[i]==y_test[i]:\n",
        "    count+=1\n",
        "  else:\n",
        "    lsda.append(i)\n",
        "print(count)\n",
        "print('lsda',lsda)\n",
        "\n",
        "print(\"score Random Forest avant entrainement: \",count/len(preds))"
      ]
    },
    {
      "cell_type": "code",
      "execution_count": null,
      "metadata": {
        "colab": {
          "base_uri": "https://localhost:8080/"
        },
        "id": "vdaylRcEHAgL",
        "outputId": "fd9d2be5-75aa-45d2-8e94-7fb05c63ac81"
      },
      "outputs": [
        {
          "name": "stdout",
          "output_type": "stream",
          "text": [
            "[[6530    1   22    4   19   42   89   22   59    6]\n",
            " [   1 7526   45   16    5   24    8   28   78   14]\n",
            " [  73  102 6067   44   96   43  106  218  115   17]\n",
            " [  50   64  222 5688   33  580   18  153  155   78]\n",
            " [  18   16   23   10 5875    4  104   36   32  590]\n",
            " [ 131   91   12  155  132 5295   83   73   70  172]\n",
            " [  91   49  171    0  258  107 6063    6   30    2]\n",
            " [  21   67   95   15   68    1    2 6648   20  226]\n",
            " [  50  133  162  151  109  160   85   42 5481  354]\n",
            " [  52   33   54  111  389   39   20  286   32 5834]]\n"
          ]
        }
      ],
      "source": [
        "from sklearn.metrics import confusion_matrix\n",
        "import numpy as np\n",
        "test_predictions =preds\n",
        "\n",
        "\n",
        "\n",
        "cm = confusion_matrix(y_true = y_test, y_pred = test_predictions)\n",
        "print(cm)"
      ]
    },
    {
      "cell_type": "code",
      "execution_count": null,
      "metadata": {
        "colab": {
          "base_uri": "https://localhost:8080/"
        },
        "id": "jsXIvpAUiZWY",
        "outputId": "bd1ef998-8829-4930-b21f-189126606f09"
      },
      "outputs": [
        {
          "name": "stdout",
          "output_type": "stream",
          "text": [
            "['6' '8' '0' ... '4' '5' '6']\n",
            "['6' '8' '0' ... '4' '5' '6']\n",
            "68900\n",
            "63743\n",
            "lda [11, 16, 20, 21, 48, 70, 78, 85, 101, 122, 134, 139, 141, 144, 159, 171, 187, 193, 217, 219, 228, 230, 241, 251, 252, 257, 261, 264, 275, 287, 304, 312, 319, 328, 376, 377, 392, 412, 418, 422, 438, 454, 468, 473, 480, 486, 498, 504, 518, 542, 561, 574, 588, 618, 637, 644, 682, 684, 690, 714, 726, 754, 770, 775, 808, 820, 835, 840, 848, 868, 881, 900, 942, 944, 950, 964, 970, 976, 998, 1008, 1014, 1034, 1084, 1094, 1132, 1134, 1152, 1158, 1168, 1186, 1220, 1224, 1238, 1259, 1279, 1310, 1323, 1326, 1343, 1349, 1350, 1366, 1384, 1388, 1390, 1402, 1403, 1446, 1454, 1464, 1478, 1480, 1488, 1522, 1536, 1552, 1560, 1571, 1576, 1620, 1628, 1634, 1648, 1651, 1660, 1661, 1665, 1698, 1703, 1717, 1733, 1738, 1745, 1756, 1780, 1801, 1816, 1827, 1828, 1831, 1834, 1842, 1858, 1880, 1914, 1930, 1934, 1960, 1966, 1994, 2000, 2036, 2078, 2102, 2104, 2105, 2116, 2120, 2154, 2158, 2168, 2184, 2189, 2190, 2214, 2218, 2254, 2255, 2262, 2274, 2282, 2292, 2315, 2338, 2384, 2404, 2406, 2410, 2422, 2470, 2472, 2480, 2484, 2526, 2534, 2544, 2562, 2576, 2582, 2592, 2596, 2619, 2627, 2630, 2642, 2657, 2662, 2667, 2698, 2710, 2714, 2724, 2727, 2728, 2754, 2772, 2779, 2838, 2841, 2860, 2875, 2914, 2928, 2933, 2950, 2958, 2966, 2968, 3022, 3042, 3048, 3049, 3053, 3064, 3065, 3070, 3076, 3083, 3085, 3105, 3153, 3156, 3158, 3172, 3190, 3222, 3260, 3262, 3273, 3282, 3318, 3338, 3358, 3360, 3368, 3376, 3402, 3410, 3411, 3470, 3478, 3495, 3496, 3532, 3534, 3536, 3538, 3546, 3554, 3558, 3565, 3566, 3587, 3594, 3610, 3627, 3642, 3661, 3662, 3667, 3684, 3686, 3697, 3700, 3704, 3712, 3714, 3722, 3734, 3736, 3773, 3778, 3804, 3808, 3809, 3845, 3855, 3868, 3886, 3942, 3980, 3982, 4003, 4024, 4029, 4036, 4052, 4063, 4074, 4092, 4095, 4116, 4138, 4195, 4198, 4207, 4208, 4216, 4232, 4282, 4284, 4290, 4296, 4302, 4308, 4322, 4330, 4342, 4374, 4382, 4436, 4438, 4442, 4448, 4454, 4494, 4498, 4516, 4524, 4526, 4550, 4579, 4584, 4591, 4604, 4618, 4623, 4630, 4638, 4640, 4648, 4669, 4680, 4690, 4695, 4698, 4702, 4711, 4721, 4726, 4728, 4742, 4755, 4768, 4776, 4796, 4836, 4854, 4864, 4872, 4874, 4883, 4898, 4907, 4944, 4966, 4994, 4998, 5002, 5030, 5062, 5070, 5102, 5120, 5130, 5131, 5151, 5154, 5169, 5182, 5184, 5189, 5211, 5215, 5242, 5247, 5262, 5270, 5299, 5307, 5318, 5348, 5350, 5364, 5366, 5400, 5404, 5456, 5482, 5500, 5536, 5558, 5568, 5606, 5608, 5613, 5655, 5662, 5666, 5671, 5678, 5684, 5692, 5698, 5708, 5710, 5716, 5725, 5743, 5744, 5748, 5758, 5779, 5785, 5814, 5818, 5820, 5827, 5834, 5844, 5852, 5870, 5906, 5909, 5910, 5930, 5936, 5946, 5958, 5980, 6012, 6034, 6036, 6042, 6060, 6068, 6092, 6108, 6110, 6133, 6138, 6142, 6143, 6150, 6155, 6170, 6182, 6183, 6222, 6229, 6239, 6242, 6246, 6247, 6250, 6287, 6301, 6338, 6350, 6393, 6399, 6408, 6418, 6430, 6449, 6459, 6464, 6484, 6499, 6504, 6518, 6520, 6549, 6566, 6574, 6578, 6622, 6632, 6662, 6667, 6684, 6690, 6696, 6733, 6751, 6762, 6777, 6779, 6786, 6791, 6798, 6809, 6820, 6823, 6824, 6826, 6833, 6862, 6884, 6894, 6895, 6912, 6913, 6931, 6945, 6948, 6955, 6993, 6997, 7009, 7010, 7020, 7025, 7026, 7071, 7078, 7090, 7100, 7102, 7114, 7116, 7118, 7123, 7126, 7128, 7134, 7154, 7157, 7168, 7197, 7198, 7227, 7236, 7247, 7250, 7305, 7327, 7347, 7349, 7351, 7358, 7368, 7371, 7380, 7391, 7420, 7428, 7452, 7454, 7456, 7460, 7484, 7486, 7500, 7519, 7537, 7538, 7539, 7545, 7547, 7561, 7563, 7570, 7574, 7576, 7580, 7590, 7593, 7600, 7609, 7612, 7614, 7619, 7629, 7636, 7659, 7661, 7665, 7671, 7672, 7673, 7680, 7686, 7690, 7716, 7721, 7726, 7730, 7743, 7748, 7753, 7754, 7757, 7761, 7765, 7779, 7780, 7783, 7784, 7787, 7798, 7804, 7810, 7818, 7820, 7832, 7834, 7840, 7846, 7866, 7898, 7904, 7908, 7930, 7940, 7980, 7981, 7991, 7998, 8008, 8019, 8041, 8045, 8046, 8064, 8092, 8102, 8120, 8121, 8156, 8166, 8179, 8185, 8190, 8194, 8240, 8244, 8246, 8328, 8333, 8339, 8348, 8349, 8350, 8355, 8368, 8372, 8391, 8413, 8416, 8428, 8450, 8459, 8467, 8474, 8488, 8491, 8508, 8511, 8533, 8541, 8551, 8561, 8564, 8577, 8660, 8674, 8678, 8688, 8689, 8699, 8710, 8712, 8760, 8767, 8770, 8776, 8824, 8832, 8840, 8848, 8878, 8879, 8905, 8912, 8914, 8918, 8938, 8942, 8948, 8961, 8964, 8989, 8991, 9014, 9016, 9044, 9060, 9097, 9105, 9107, 9111, 9115, 9125, 9127, 9137, 9139, 9141, 9145, 9151, 9155, 9159, 9161, 9165, 9177, 9182, 9185, 9191, 9244, 9258, 9290, 9324, 9334, 9337, 9338, 9346, 9359, 9370, 9391, 9403, 9413, 9421, 9542, 9544, 9555, 9607, 9616, 9622, 9626, 9638, 9644, 9656, 9660, 9674, 9690, 9696, 9752, 9776, 9780, 9784, 9812, 9882, 9884, 9886, 9892, 9898, 9934, 9938, 9939, 9944, 9974, 9997, 10004, 10021, 10022, 10026, 10038, 10054, 10060, 10062, 10091, 10102, 10108, 10110, 10134, 10155, 10196, 10236, 10242, 10246, 10278, 10292, 10316, 10326, 10338, 10341, 10342, 10363, 10382, 10389, 10396, 10402, 10445, 10449, 10454, 10465, 10470, 10472, 10483, 10486, 10500, 10513, 10514, 10519, 10532, 10539, 10543, 10544, 10545, 10557, 10575, 10593, 10602, 10605, 10611, 10619, 10621, 10634, 10637, 10640, 10647, 10655, 10659, 10667, 10677, 10681, 10684, 10690, 10697, 10743, 10753, 10785, 10811, 10821, 10822, 10844, 10849, 10851, 10864, 10869, 10892, 10899, 10917, 10918, 10924, 10963, 10966, 10976, 10978, 10989, 11013, 11023, 11051, 11053, 11057, 11081, 11083, 11089, 11090, 11096, 11107, 11111, 11122, 11154, 11168, 11197, 11200, 11230, 11250, 11272, 11324, 11330, 11358, 11366, 11374, 11384, 11393, 11397, 11413, 11422, 11436, 11459, 11485, 11492, 11503, 11514, 11523, 11530, 11533, 11546, 11550, 11551, 11563, 11575, 11579, 11582, 11586, 11592, 11602, 11616, 11652, 11668, 11678, 11682, 11686, 11712, 11720, 11730, 11736, 11740, 11798, 11800, 11806, 11835, 11836, 11840, 11846, 11856, 11867, 11886, 11890, 11895, 11902, 11914, 11918, 11921, 11925, 11930, 11931, 11952, 11962, 11977, 11980, 11982, 11993, 11996, 12027, 12034, 12038, 12050, 12053, 12073, 12082, 12085, 12159, 12208, 12246, 12274, 12276, 12312, 12328, 12352, 12360, 12388, 12408, 12416, 12430, 12438, 12448, 12451, 12468, 12520, 12551, 12556, 12566, 12577, 12580, 12598, 12603, 12605, 12612, 12613, 12614, 12632, 12642, 12644, 12660, 12666, 12678, 12682, 12694, 12731, 12750, 12752, 12754, 12770, 12778, 12804, 12812, 12820, 12869, 12870, 12883, 12896, 12908, 12928, 12962, 12963, 12974, 12978, 12984, 12990, 12996, 13009, 13020, 13029, 13044, 13047, 13062, 13064, 13086, 13088, 13094, 13136, 13138, 13146, 13148, 13166, 13186, 13190, 13195, 13205, 13229, 13233, 13237, 13240, 13241, 13252, 13274, 13285, 13288, 13294, 13303, 13306, 13313, 13333, 13340, 13349, 13369, 13380, 13406, 13440, 13448, 13450, 13480, 13482, 13486, 13488, 13523, 13541, 13561, 13564, 13572, 13590, 13592, 13595, 13600, 13631, 13633, 13640, 13647, 13656, 13660, 13661, 13665, 13676, 13690, 13701, 13705, 13710, 13713, 13730, 13751, 13761, 13784, 13794, 13796, 13812, 13816, 13829, 13835, 13868, 13872, 13906, 13910, 13954, 13968, 13970, 13972, 14006, 14008, 14012, 14014, 14016, 14064, 14067, 14107, 14116, 14144, 14152, 14157, 14176, 14209, 14242, 14250, 14252, 14256, 14272, 14286, 14302, 14306, 14320, 14324, 14334, 14368, 14383, 14394, 14402, 14410, 14426, 14462, 14479, 14488, 14492, 14510, 14624, 14625, 14628, 14630, 14642, 14643, 14666, 14669, 14674, 14679, 14681, 14712, 14720, 14732, 14742, 14752, 14755, 14769, 14778, 14807, 14813, 14838, 14842, 14847, 14848, 14880, 14888, 14890, 14919, 14922, 14931, 14936, 14943, 14944, 14945, 14947, 14951, 15000, 15056, 15070, 15080, 15098, 15106, 15109, 15119, 15120, 15148, 15190, 15198, 15232, 15276, 15278, 15294, 15306, 15346, 15362, 15372, 15386, 15388, 15410, 15428, 15430, 15490, 15527, 15544, 15545, 15546, 15558, 15576, 15578, 15588, 15590, 15598, 15606, 15616, 15655, 15656, 15666, 15672, 15696, 15699, 15708, 15734, 15751, 15782, 15788, 15794, 15809, 15811, 15840, 15851, 15854, 15859, 15864, 15886, 15889, 15897, 15939, 15944, 15962, 15982, 15991, 15998, 16012, 16020, 16029, 16082, 16088, 16090, 16098, 16110, 16113, 16120, 16144, 16163, 16165, 16174, 16192, 16196, 16254, 16265, 16282, 16301, 16306, 16320, 16340, 16366, 16399, 16418, 16440, 16442, 16451, 16453, 16474, 16482, 16488, 16493, 16494, 16501, 16509, 16516, 16520, 16534, 16541, 16547, 16554, 16557, 16563, 16566, 16576, 16579, 16606, 16610, 16614, 16615, 16631, 16641, 16656, 16660, 16663, 16672, 16684, 16687, 16692, 16708, 16717, 16732, 16764, 16774, 16776, 16790, 16793, 16804, 16808, 16816, 16824, 16834, 16848, 16858, 16861, 16888, 16900, 16903, 16904, 16930, 16946, 16949, 16954, 16996, 17002, 17026, 17030, 17058, 17066, 17102, 17128, 17147, 17149, 17188, 17193, 17213, 17224, 17225, 17248, 17298, 17326, 17331, 17336, 17340, 17345, 17357, 17370, 17373, 17385, 17387, 17396, 17401, 17404, 17406, 17408, 17425, 17442, 17498, 17531, 17538, 17586, 17604, 17620, 17628, 17639, 17672, 17696, 17714, 17732, 17745, 17762, 17764, 17772, 17808, 17824, 17862, 17876, 17884, 17886, 17892, 17905, 17964, 17989, 17996, 17998, 18006, 18011, 18012, 18024, 18037, 18048, 18059, 18112, 18113, 18138, 18144, 18146, 18172, 18176, 18198, 18216, 18228, 18238, 18244, 18245, 18265, 18286, 18314, 18323, 18328, 18338, 18363, 18384, 18395, 18401, 18405, 18419, 18424, 18440, 18445, 18449, 18469, 18486, 18490, 18532, 18560, 18592, 18626, 18652, 18656, 18682, 18708, 18714, 18724, 18728, 18732, 18736, 18766, 18786, 18788, 18792, 18828, 18834, 18842, 18848, 18850, 18881, 18888, 18903, 18916, 18922, 18923, 18937, 18950, 18962, 18972, 18988, 19000, 19002, 19016, 19050, 19066, 19070, 19071, 19086, 19106, 19111, 19121, 19126, 19130, 19145, 19150, 19188, 19228, 19250, 19292, 19312, 19368, 19386, 19427, 19429, 19432, 19438, 19460, 19462, 19472, 19500, 19560, 19572, 19576, 19608, 19611, 19620, 19625, 19628, 19635, 19646, 19656, 19667, 19673, 19684, 19690, 19698, 19713, 19720, 19725, 19749, 19762, 19769, 19781, 19803, 19816, 19818, 19839, 19842, 19859, 19862, 19867, 19871, 19876, 19889, 19899, 19907, 19923, 19940, 19944, 19946, 19966, 20010, 20012, 20028, 20030, 20034, 20038, 20044, 20050, 20104, 20132, 20150, 20178, 20195, 20202, 20215, 20241, 20248, 20251, 20261, 20275, 20282, 20283, 20290, 20295, 20299, 20302, 20321, 20326, 20336, 20342, 20345, 20352, 20357, 20366, 20367, 20375, 20429, 20440, 20476, 20488, 20489, 20498, 20501, 20506, 20508, 20536, 20554, 20586, 20590, 20592, 20600, 20626, 20672, 20750, 20751, 20789, 20796, 20806, 20820, 20846, 20847, 20848, 20860, 20898, 20902, 20933, 20934, 20953, 20989, 20991, 20992, 21014, 21023, 21036, 21040, 21055, 21069, 21077, 21093, 21099, 21100, 21104, 21112, 21125, 21129, 21134, 21170, 21178, 21183, 21185, 21208, 21300, 21318, 21338, 21359, 21370, 21391, 21421, 21429, 21431, 21432, 21438, 21444, 21461, 21462, 21483, 21490, 21509, 21522, 21533, 21543, 21548, 21562, 21564, 21568, 21570, 21573, 21579, 21604, 21612, 21622, 21628, 21638, 21641, 21650, 21666, 21670, 21692, 21702, 21703, 21704, 21706, 21724, 21745, 21810, 21842, 21864, 21876, 21896, 21920, 21924, 21929, 21986, 21989, 21994, 22000, 22004, 22057, 22065, 22083, 22084, 22102, 22106, 22108, 22112, 22115, 22135, 22164, 22194, 22205, 22222, 22236, 22250, 22285, 22286, 22291, 22300, 22312, 22328, 22335, 22358, 22359, 22361, 22413, 22417, 22422, 22438, 22482, 22494, 22504, 22518, 22521, 22529, 22542, 22558, 22564, 22578, 22585, 22598, 22611, 22624, 22630, 22633, 22658, 22690, 22712, 22724, 22768, 22776, 22801, 22811, 22846, 22856, 22862, 22874, 22886, 22932, 22938, 22950, 22959, 22963, 22977, 22999, 23001, 23008, 23010, 23011, 23025, 23045, 23060, 23064, 23092, 23110, 23140, 23150, 23162, 23163, 23165, 23174, 23178, 23184, 23210, 23212, 23247, 23260, 23296, 23314, 23332, 23348, 23362, 23391, 23412, 23413, 23424, 23447, 23458, 23460, 23462, 23487, 23489, 23498, 23513, 23516, 23520, 23523, 23530, 23532, 23546, 23548, 23549, 23560, 23562, 23568, 23569, 23584, 23588, 23625, 23636, 23661, 23667, 23694, 23698, 23722, 23752, 23760, 23783, 23799, 23806, 23825, 23827, 23831, 23834, 23839, 23843, 23844, 23865, 23879, 23898, 23907, 23934, 23955, 23958, 23992, 23996, 24014, 24016, 24026, 24040, 24045, 24076, 24078, 24086, 24088, 24108, 24120, 24132, 24146, 24201, 24207, 24221, 24232, 24284, 24286, 24338, 24384, 24385, 24386, 24398, 24428, 24446, 24462, 24486, 24496, 24508, 24510, 24522, 24546, 24578, 24592, 24616, 24622, 24632, 24636, 24656, 24668, 24683, 24689, 24690, 24699, 24700, 24703, 24708, 24709, 24719, 24729, 24774, 24800, 24830, 24838, 24846, 24847, 24848, 24849, 24851, 24866, 24886, 24890, 24917, 24923, 24966, 25035, 25050, 25058, 25084, 25114, 25131, 25166, 25193, 25200, 25244, 25262, 25276, 25280, 25289, 25291, 25298, 25305, 25312, 25319, 25332, 25344, 25371, 25383, 25398, 25404, 25411, 25427, 25434, 25442, 25444, 25460, 25463, 25486, 25488, 25500, 25514, 25522, 25526, 25529, 25536, 25540, 25566, 25581, 25594, 25608, 25609, 25618, 25628, 25630, 25637, 25644, 25648, 25649, 25656, 25660, 25667, 25678, 25704, 25705, 25742, 25749, 25764, 25772, 25782, 25790, 25800, 25836, 25840, 25847, 25850, 25864, 25898, 25916, 25962, 25982, 25985, 26003, 26005, 26015, 26020, 26021, 26022, 26047, 26055, 26056, 26072, 26076, 26077, 26080, 26085, 26089, 26094, 26097, 26103, 26114, 26117, 26119, 26122, 26125, 26126, 26141, 26148, 26154, 26169, 26182, 26192, 26193, 26199, 26216, 26223, 26240, 26259, 26270, 26306, 26320, 26331, 26347, 26359, 26386, 26390, 26402, 26422, 26456, 26476, 26496, 26498, 26514, 26545, 26566, 26603, 26629, 26639, 26677, 26686, 26691, 26693, 26712, 26719, 26722, 26738, 26746, 26774, 26777, 26780, 26860, 26862, 26866, 26884, 26906, 26914, 26926, 26952, 26966, 27002, 27032, 27036, 27052, 27054, 27062, 27092, 27098, 27131, 27162, 27167, 27176, 27205, 27206, 27210, 27244, 27251, 27252, 27257, 27262, 27268, 27272, 27274, 27292, 27312, 27313, 27318, 27322, 27344, 27358, 27371, 27391, 27406, 27412, 27433, 27436, 27439, 27461, 27464, 27492, 27500, 27533, 27542, 27550, 27552, 27553, 27561, 27564, 27568, 27588, 27606, 27610, 27623, 27634, 27660, 27675, 27678, 27681, 27685, 27688, 27710, 27720, 27726, 27760, 27832, 27854, 27884, 27912, 27941, 27946, 27961, 27962, 27993, 28009, 28021, 28030, 28032, 28042, 28056, 28072, 28094, 28106, 28117, 28126, 28137, 28141, 28191, 28192, 28194, 28204, 28210, 28220, 28241, 28260, 28272, 28280, 28291, 28292, 28322, 28334, 28344, 28370, 28376, 28389, 28403, 28428, 28438, 28450, 28458, 28460, 28470, 28488, 28489, 28509, 28510, 28534, 28559, 28572, 28576, 28601, 28604, 28605, 28613, 28619, 28622, 28625, 28630, 28657, 28663, 28665, 28685, 28700, 28716, 28723, 28727, 28732, 28741, 28768, 28772, 28775, 28779, 28781, 28789, 28796, 28799, 28803, 28806, 28820, 28822, 28833, 28838, 28858, 28859, 28860, 28866, 28867, 28891, 28892, 28893, 28896, 28911, 28916, 28941, 28952, 28962, 28963, 28966, 28972, 28985, 28995, 29016, 29023, 29030, 29044, 29057, 29059, 29084, 29114, 29119, 29128, 29156, 29190, 29208, 29262, 29318, 29322, 29329, 29353, 29354, 29364, 29381, 29390, 29408, 29466, 29504, 29514, 29526, 29531, 29538, 29542, 29546, 29559, 29560, 29572, 29586, 29588, 29592, 29620, 29636, 29672, 29674, 29675, 29676, 29692, 29706, 29710, 29721, 29733, 29741, 29744, 29746, 29756, 29761, 29768, 29772, 29775, 29776, 29784, 29800, 29815, 29841, 29850, 29853, 29860, 29862, 29868, 29886, 29891, 29900, 29923, 29946, 29977, 29994, 30000, 30003, 30024, 30034, 30040, 30062, 30084, 30085, 30097, 30098, 30100, 30116, 30152, 30153, 30161, 30166, 30174, 30183, 30190, 30195, 30201, 30208, 30210, 30213, 30235, 30244, 30245, 30247, 30249, 30251, 30266, 30281, 30296, 30313, 30315, 30318, 30328, 30344, 30346, 30350, 30352, 30356, 30382, 30417, 30444, 30445, 30457, 30462, 30476, 30477, 30485, 30496, 30500, 30502, 30509, 30523, 30524, 30545, 30550, 30564, 30568, 30572, 30574, 30575, 30603, 30606, 30610, 30612, 30619, 30627, 30638, 30648, 30660, 30688, 30693, 30694, 30698, 30740, 30744, 30745, 30750, 30751, 30756, 30776, 30797, 30824, 30846, 30858, 30862, 30896, 30913, 30917, 30918, 30947, 30970, 30988, 31000, 31008, 31012, 31029, 31031, 31032, 31034, 31037, 31068, 31073, 31090, 31102, 31150, 31154, 31156, 31180, 31188, 31214, 31217, 31219, 31221, 31239, 31243, 31272, 31296, 31309, 31313, 31315, 31317, 31319, 31321, 31326, 31327, 31336, 31343, 31345, 31351, 31369, 31375, 31376, 31378, 31397, 31399, 31404, 31405, 31407, 31410, 31419, 31437, 31458, 31473, 31522, 31536, 31539, 31540, 31544, 31556, 31566, 31568, 31582, 31588, 31630, 31647, 31674, 31676, 31684, 31686, 31704, 31714, 31729, 31780, 31808, 31826, 31838, 31894, 31934, 31962, 31974, 32007, 32030, 32045, 32050, 32062, 32142, 32176, 32188, 32190, 32218, 32228, 32238, 32244, 32264, 32271, 32288, 32308, 32312, 32322, 32325, 32334, 32343, 32364, 32384, 32405, 32406, 32452, 32481, 32494, 32510, 32526, 32531, 32578, 32594, 32608, 32638, 32668, 32689, 32690, 32696, 32705, 32706, 32740, 32756, 32760, 32772, 32780, 32789, 32856, 32858, 32900, 32910, 32934, 32940, 32948, 32958, 32968, 32979, 32990, 32999, 33000, 33006, 33015, 33080, 33086, 33104, 33134, 33152, 33168, 33206, 33222, 33228, 33252, 33304, 33306, 33307, 33314, 33332, 33344, 33361, 33400, 33424, 33432, 33436, 33442, 33446, 33456, 33459, 33467, 33474, 33494, 33508, 33516, 33544, 33554, 33558, 33560, 33565, 33578, 33588, 33598, 33614, 33616, 33628, 33639, 33640, 33650, 33658, 33665, 33671, 33685, 33695, 33702, 33708, 33719, 33728, 33729, 33730, 33732, 33736, 33761, 33772, 33781, 33806, 33808, 33819, 33820, 33824, 33834, 33842, 33851, 33888, 33896, 33910, 33918, 33926, 33944, 33958, 33962, 33964, 33988, 34002, 34005, 34026, 34032, 34036, 34042, 34062, 34070, 34090, 34096, 34105, 34132, 34134, 34136, 34172, 34210, 34216, 34226, 34260, 34301, 34306, 34358, 34364, 34368, 34374, 34380, 34386, 34394, 34404, 34443, 34450, 34474, 34494, 34516, 34522, 34528, 34532, 34575, 34586, 34588, 34590, 34594, 34634, 34650, 34654, 34694, 34704, 34751, 34761, 34776, 34782, 34783, 34790, 34816, 34817, 34824, 34858, 34862, 34897, 34908, 34923, 34924, 34932, 34936, 34946, 34955, 34965, 34967, 34972, 34980, 35004, 35026, 35028, 35029, 35060, 35066, 35112, 35114, 35122, 35126, 35138, 35142, 35156, 35224, 35248, 35263, 35298, 35315, 35317, 35321, 35339, 35346, 35350, 35352, 35388, 35389, 35391, 35394, 35400, 35426, 35450, 35482, 35491, 35496, 35499, 35528, 35542, 35548, 35569, 35614, 35616, 35630, 35631, 35646, 35650, 35666, 35667, 35683, 35702, 35710, 35714, 35718, 35734, 35752, 35786, 35790, 35792, 35807, 35808, 35834, 35836, 35882, 35884, 35916, 35926, 35938, 35948, 35960, 35962, 35970, 35986, 35989, 36000, 36018, 36022, 36034, 36035, 36047, 36060, 36061, 36068, 36109, 36125, 36143, 36148, 36149, 36156, 36181, 36193, 36209, 36219, 36247, 36252, 36258, 36267, 36273, 36274, 36283, 36296, 36297, 36302, 36303, 36306, 36317, 36327, 36342, 36350, 36368, 36369, 36380, 36388, 36422, 36432, 36438, 36446, 36449, 36455, 36469, 36488, 36492, 36499, 36505, 36552, 36580, 36596, 36604, 36612, 36620, 36621, 36625, 36634, 36646, 36650, 36658, 36664, 36673, 36686, 36716, 36718, 36734, 36738, 36755, 36777, 36812, 36821, 36826, 36874, 36886, 36888, 36904, 36950, 36952, 36955, 36980, 36982, 37012, 37022, 37082, 37094, 37095, 37124, 37130, 37152, 37156, 37215, 37218, 37231, 37243, 37270, 37272, 37285, 37297, 37299, 37308, 37320, 37348, 37411, 37412, 37424, 37426, 37475, 37486, 37498, 37504, 37505, 37506, 37516, 37538, 37590, 37598, 37600, 37614, 37624, 37626, 37647, 37660, 37672, 37680, 37690, 37695, 37777, 37832, 37869, 37882, 37890, 37898, 37900, 37931, 37962, 37966, 37981, 37983, 38005, 38016, 38022, 38030, 38062, 38084, 38086, 38108, 38128, 38141, 38144, 38155, 38167, 38172, 38178, 38184, 38186, 38194, 38199, 38201, 38205, 38209, 38220, 38227, 38229, 38235, 38242, 38255, 38257, 38259, 38263, 38278, 38284, 38293, 38311, 38323, 38325, 38329, 38357, 38380, 38402, 38420, 38426, 38461, 38496, 38500, 38527, 38539, 38550, 38556, 38563, 38568, 38573, 38578, 38583, 38586, 38600, 38605, 38606, 38608, 38632, 38636, 38652, 38653, 38676, 38677, 38678, 38704, 38706, 38720, 38732, 38763, 38764, 38775, 38777, 38783, 38791, 38804, 38813, 38821, 38845, 38878, 38882, 38894, 38895, 38899, 38941, 38964, 38976, 38979, 39058, 39084, 39108, 39130, 39136, 39140, 39164, 39198, 39204, 39278, 39286, 39292, 39304, 39366, 39380, 39392, 39394, 39424, 39430, 39436, 39450, 39460, 39475, 39514, 39516, 39520, 39542, 39544, 39546, 39554, 39560, 39564, 39567, 39578, 39604, 39608, 39652, 39728, 39746, 39758, 39766, 39774, 39782, 39798, 39840, 39842, 39855, 39864, 39872, 39876, 39903, 39910, 39916, 39918, 39938, 39960, 39972, 39978, 39979, 39994, 40006, 40010, 40036, 40056, 40071, 40080, 40100, 40104, 40105, 40118, 40154, 40166, 40167, 40174, 40176, 40183, 40184, 40187, 40199, 40234, 40258, 40278, 40296, 40308, 40310, 40316, 40326, 40334, 40353, 40364, 40368, 40399, 40400, 40407, 40415, 40438, 40468, 40472, 40478, 40490, 40494, 40504, 40514, 40518, 40522, 40536, 40539, 40553, 40556, 40568, 40599, 40614, 40621, 40627, 40635, 40642, 40644, 40655, 40656, 40665, 40667, 40670, 40672, 40702, 40716, 40722, 40732, 40750, 40782, 40804, 40807, 40810, 40824, 40833, 40878, 40896, 40898, 40899, 40920, 40929, 40942, 40978, 40999, 41014, 41017, 41025, 41053, 41054, 41057, 41078, 41081, 41086, 41095, 41099, 41106, 41111, 41113, 41133, 41149, 41154, 41155, 41169, 41192, 41212, 41214, 41237, 41247, 41254, 41264, 41265, 41278, 41283, 41284, 41297, 41315, 41328, 41334, 41336, 41337, 41338, 41339, 41366, 41367, 41372, 41379, 41381, 41391, 41403, 41404, 41408, 41415, 41422, 41433, 41438, 41441, 41466, 41470, 41474, 41522, 41532, 41542, 41562, 41564, 41573, 41582, 41599, 41603, 41634, 41642, 41646, 41670, 41674, 41682, 41699, 41726, 41728, 41739, 41744, 41754, 41760, 41766, 41778, 41780, 41786, 41798, 41814, 41824, 41831, 41833, 41841, 41853, 41854, 41861, 41873, 41886, 41887, 41888, 41895, 41912, 41915, 41920, 41943, 41951, 41965, 41969, 41978, 41991, 41995, 41999, 42009, 42021, 42026, 42074, 42076, 42080, 42092, 42098, 42100, 42106, 42108, 42124, 42126, 42138, 42148, 42156, 42190, 42228, 42230, 42234, 42246, 42272, 42288, 42334, 42374, 42410, 42418, 42432, 42437, 42462, 42558, 42570, 42602, 42620, 42631, 42682, 42683, 42688, 42696, 42702, 42711, 42718, 42723, 42752, 42768, 42774, 42797, 42798, 42809, 42830, 42850, 42886, 42902, 42904, 42940, 42946, 42972, 42991, 43000, 43006, 43023, 43028, 43037, 43057, 43072, 43088, 43134, 43136, 43140, 43152, 43161, 43162, 43167, 43183, 43194, 43228, 43240, 43245, 43278, 43282, 43287, 43319, 43324, 43332, 43342, 43344, 43356, 43362, 43384, 43408, 43434, 43446, 43508, 43526, 43538, 43540, 43561, 43584, 43598, 43626, 43646, 43648, 43653, 43667, 43719, 43736, 43748, 43765, 43775, 43798, 43803, 43804, 43818, 43844, 43848, 43854, 43859, 43869, 43905, 43911, 43917, 43943, 43946, 43947, 43956, 43979, 43982, 43999, 44008, 44014, 44016, 44021, 44043, 44044, 44061, 44080, 44081, 44083, 44085, 44099, 44101, 44107, 44138, 44145, 44150, 44152, 44156, 44160, 44166, 44174, 44194, 44248, 44252, 44260, 44296, 44308, 44314, 44336, 44339, 44343, 44346, 44355, 44358, 44372, 44382, 44386, 44396, 44400, 44401, 44420, 44432, 44464, 44466, 44474, 44475, 44476, 44484, 44486, 44487, 44497, 44502, 44512, 44514, 44516, 44522, 44552, 44555, 44556, 44558, 44566, 44587, 44592, 44604, 44640, 44649, 44658, 44674, 44684, 44700, 44701, 44748, 44764, 44768, 44776, 44778, 44787, 44801, 44802, 44817, 44825, 44854, 44868, 44892, 44901, 44913, 44933, 44936, 44940, 44945, 44958, 44966, 44967, 44970, 44988, 45010, 45015, 45022, 45026, 45046, 45048, 45082, 45087, 45146, 45147, 45169, 45174, 45184, 45188, 45196, 45198, 45200, 45214, 45216, 45224, 45236, 45254, 45256, 45268, 45270, 45273, 45284, 45301, 45306, 45319, 45332, 45341, 45347, 45398, 45402, 45424, 45470, 45473, 45480, 45516, 45526, 45532, 45547, 45552, 45589, 45607, 45609, 45626, 45629, 45634, 45636, 45676, 45706, 45715, 45757, 45760, 45769, 45784, 45787, 45793, 45806, 45838, 45841, 45858, 45876, 45904, 45934, 45936, 45956, 45970, 45976, 45994, 46022, 46030, 46040, 46042, 46117, 46120, 46127, 46134, 46137, 46146, 46147, 46148, 46155, 46161, 46163, 46164, 46174, 46191, 46221, 46222, 46240, 46280, 46309, 46345, 46375, 46379, 46388, 46414, 46460, 46489, 46494, 46497, 46500, 46505, 46507, 46511, 46518, 46528, 46531, 46535, 46536, 46551, 46555, 46562, 46589, 46590, 46591, 46623, 46632, 46641, 46646, 46647, 46653, 46659, 46662, 46687, 46692, 46702, 46744, 46770, 46818, 46825, 46826, 46830, 46836, 46851, 46879, 46914, 46920, 46931, 46938, 46965, 46970, 46995, 47002, 47003, 47054, 47063, 47093, 47098, 47106, 47130, 47158, 47170, 47172, 47178, 47179, 47182, 47188, 47211, 47214, 47221, 47223, 47230, 47249, 47255, 47260, 47272, 47280, 47282, 47284, 47297, 47382, 47386, 47398, 47407, 47412, 47422, 47424, 47440, 47446, 47448, 47518, 47519, 47528, 47546, 47549, 47562, 47590, 47612, 47626, 47652, 47670, 47692, 47700, 47762, 47765, 47799, 47812, 47817, 47821, 47830, 47833, 47853, 47857, 47866, 47875, 47902, 47905, 47906, 47909, 47912, 47914, 47940, 47941, 47956, 47966, 47967, 47970, 47994, 48022, 48028, 48030, 48039, 48043, 48064, 48088, 48104, 48106, 48112, 48115, 48122, 48126, 48128, 48152, 48216, 48218, 48233, 48306, 48310, 48338, 48366, 48372, 48388, 48393, 48394, 48398, 48406, 48409, 48414, 48415, 48417, 48425, 48429, 48441, 48442, 48443, 48445, 48455, 48463, 48473, 48479, 48489, 48507, 48518, 48534, 48548, 48556, 48562, 48566, 48572, 48598, 48628, 48641, 48644, 48653, 48665, 48672, 48684, 48706, 48709, 48713, 48725, 48738, 48741, 48759, 48768, 48782, 48789, 48790, 48792, 48793, 48795, 48802, 48804, 48808, 48812, 48813, 48823, 48828, 48838, 48850, 48855, 48862, 48885, 48887, 48905, 48907, 48925, 48933, 48954, 48971, 48974, 48978, 48988, 48991, 48999, 49020, 49034, 49078, 49084, 49112, 49128, 49136, 49139, 49146, 49156, 49188, 49207, 49208, 49220, 49227, 49229, 49240, 49242, 49249, 49259, 49269, 49287, 49290, 49291, 49293, 49296, 49313, 49314, 49318, 49326, 49331, 49359, 49362, 49370, 49409, 49414, 49422, 49456, 49460, 49472, 49474, 49476, 49483, 49484, 49487, 49505, 49532, 49539, 49544, 49598, 49614, 49628, 49637, 49640, 49657, 49677, 49696, 49702, 49714, 49719, 49724, 49735, 49736, 49741, 49758, 49787, 49789, 49790, 49796, 49798, 49802, 49808, 49817, 49836, 49837, 49882, 49916, 49918, 49946, 49954, 49958, 50006, 50025, 50058, 50064, 50080, 50094, 50096, 50127, 50130, 50134, 50139, 50142, 50148, 50174, 50180, 50183, 50200, 50215, 50237, 50254, 50262, 50271, 50288, 50294, 50308, 50338, 50364, 50366, 50422, 50426, 50430, 50452, 50470, 50476, 50500, 50514, 50516, 50552, 50560, 50598, 50606, 50640, 50659, 50664, 50670, 50694, 50704, 50716, 50738, 50740, 50742, 50756, 50763, 50790, 50844, 50846, 50858, 50870, 50888, 50890, 50914, 50917, 50922, 50970, 50986, 50996, 50999, 51006, 51015, 51021, 51029, 51034, 51038, 51044, 51052, 51060, 51066, 51072, 51073, 51108, 51110, 51114, 51118, 51122, 51125, 51141, 51145, 51159, 51172, 51175, 51179, 51190, 51194, 51206, 51216, 51224, 51227, 51258, 51292, 51294, 51299, 51304, 51324, 51342, 51352, 51362, 51364, 51376, 51378, 51383, 51482, 51504, 51544, 51550, 51574, 51599, 51607, 51613, 51618, 51638, 51651, 51670, 51685, 51690, 51700, 51708, 51712, 51714, 51728, 51738, 51751, 51762, 51773, 51784, 51792, 51796, 51799, 51807, 51810, 51814, 51818, 51822, 51827, 51828, 51832, 51836, 51840, 51853, 51868, 51871, 51875, 51878, 51881, 51906, 51913, 51915, 51917, 51928, 51942, 51944, 51963, 51998, 52013, 52030, 52048, 52050, 52056, 52058, 52070, 52082, 52096, 52116, 52118, 52160, 52164, 52180, 52242, 52298, 52308, 52357, 52362, 52370, 52374, 52376, 52382, 52392, 52422, 52428, 52442, 52452, 52456, 52470, 52485, 52523, 52530, 52538, 52545, 52573, 52580, 52582, 52588, 52613, 52616, 52620, 52623, 52631, 52632, 52636, 52639, 52640, 52667, 52706, 52707, 52720, 52726, 52738, 52744, 52756, 52767, 52772, 52773, 52783, 52810, 52828, 52838, 52855, 52876, 52879, 52897, 52899, 52902, 52911, 52928, 52937, 52938, 52956, 52962, 52965, 52974, 52981, 52997, 53004, 53006, 53030, 53095, 53108, 53150, 53188, 53196, 53206, 53277, 53278, 53294, 53310, 53336, 53340, 53376, 53392, 53406, 53420, 53421, 53424, 53434, 53442, 53450, 53454, 53456, 53486, 53506, 53512, 53516, 53523, 53524, 53535, 53546, 53550, 53586, 53594, 53602, 53611, 53638, 53642, 53662, 53678, 53682, 53688, 53695, 53734, 53736, 53748, 53758, 53767, 53770, 53778, 53780, 53792, 53796, 53810, 53813, 53816, 53818, 53836, 53849, 53854, 53866, 53872, 53881, 53911, 53922, 53928, 53934, 53942, 53954, 53973, 54016, 54028, 54048, 54090, 54094, 54144, 54170, 54178, 54194, 54210, 54211, 54230, 54236, 54240, 54251, 54252, 54253, 54268, 54274, 54324, 54332, 54338, 54340, 54358, 54388, 54396, 54405, 54413, 54447, 54480, 54486, 54512, 54516, 54526, 54542, 54548, 54588, 54598, 54627, 54629, 54630, 54639, 54658, 54692, 54702, 54704, 54714, 54762, 54770, 54776, 54786, 54796, 54806, 54854, 54862, 54870, 54874, 54898, 54954, 54966, 54998, 55030, 55045, 55046, 55056, 55062, 55088, 55110, 55113, 55124, 55154, 55160, 55192, 55200, 55220, 55224, 55234, 55291, 55296, 55297, 55320, 55327, 55352, 55354, 55357, 55364, 55374, 55380, 55392, 55394, 55476, 55496, 55500, 55520, 55528, 55546, 55562, 55572, 55573, 55617, 55623, 55637, 55642, 55673, 55700, 55718, 55738, 55739, 55755, 55769, 55788, 55813, 55814, 55881, 55892, 55921, 55941, 55976, 55982, 56000, 56016, 56044, 56072, 56110, 56124, 56128, 56134, 56144, 56156, 56202, 56205, 56208, 56212, 56224, 56255, 56278, 56279, 56280, 56292, 56296, 56309, 56362, 56372, 56374, 56386, 56392, 56498, 56528, 56532, 56543, 56562, 56567, 56583, 56586, 56598, 56613, 56614, 56618, 56628, 56629, 56630, 56632, 56641, 56655, 56668, 56674, 56694, 56708, 56722, 56736, 56737, 56762, 56763, 56772, 56780, 56782, 56798, 56809, 56822, 56832, 56854, 56856, 56882, 56894, 56950, 56972, 56980, 56994, 57005, 57019, 57059, 57126, 57137, 57146, 57216, 57294, 57313, 57322, 57330, 57335, 57364, 57370, 57418, 57443, 57487, 57495, 57499, 57542, 57549, 57609, 57648, 57675, 57712, 57722, 57732, 57771, 57781, 57792, 57831, 57946, 57969, 58026, 58039, 58044, 58061, 58096, 58102, 58183, 58186, 58189, 58194, 58197, 58209, 58212, 58214, 58221, 58239, 58243, 58244, 58254, 58261, 58267, 58283, 58284, 58286, 58290, 58299, 58301, 58302, 58323, 58333, 58340, 58347, 58366, 58462, 58547, 58553, 58581, 58601, 58616, 58618, 58619, 58620, 58626, 58631, 58634, 58635, 58647, 58666, 58809, 58815, 58842, 58848, 58908, 58911, 58954, 58965, 58966, 58973, 58987, 58995, 59012, 59049, 59073, 59117, 59130, 59141, 59145, 59147, 59150, 59166, 59168, 59190, 59209, 59213, 59218, 59220, 59221, 59238, 59241, 59252, 59276, 59281, 59286, 59302, 59303, 59343, 59345, 59347, 59349, 59350, 59378, 59379, 59395, 59407, 59411, 59424, 59431, 59443, 59448, 59451, 59452, 59465, 59471, 59478, 59482, 59497, 59512, 59514, 59527, 59546, 59561, 59568, 59583, 59584, 59591, 59607, 59612, 59614, 59617, 59634, 59640, 59648, 59660, 59674, 59680, 59695, 59697, 59700, 59701, 59710, 59730, 59744, 59766, 59777, 59781, 59782, 59783, 59790, 59824, 59838, 59844, 59847, 59850, 59851, 59852, 59859, 59865, 59875, 59882, 59903, 59914, 59932, 59962, 59972, 59992, 60007, 60012, 60014, 60019, 60025, 60047, 60056, 60066, 60073, 60081, 60091, 60092, 60094, 60098, 60100, 60104, 60106, 60124, 60126, 60128, 60139, 60142, 60147, 60148, 60160, 60170, 60172, 60181, 60183, 60189, 60190, 60191, 60193, 60199, 60210, 60215, 60219, 60220, 60226, 60228, 60232, 60237, 60255, 60278, 60283, 60310, 60315, 60325, 60344, 60353, 60366, 60369, 60372, 60376, 60395, 60400, 60425, 60427, 60430, 60431, 60449, 60453, 60459, 60469, 60471, 60487, 60496, 60500, 60509, 60511, 60514, 60518, 60521, 60528, 60534, 60541, 60571, 60581, 60586, 60598, 60609, 60616, 60617, 60618, 60621, 60622, 60630, 60633, 60637, 60654, 60659, 60663, 60665, 60674, 60682, 60690, 60697, 60698, 60700, 60708, 60713, 60719, 60728, 60737, 60740, 60778, 60789, 60801, 60811, 60813, 60826, 60830, 60840, 60852, 60856, 60873, 60876, 60883, 60909, 60916, 60924, 60925, 60935, 60940, 60943, 60944, 60953, 60966, 60970, 60973, 60990, 60998, 61007, 61009, 61018, 61025, 61030, 61035, 61048, 61051, 61074, 61082, 61085, 61086, 61089, 61100, 61122, 61124, 61137, 61166, 61172, 61180, 61184, 61193, 61199, 61205, 61225, 61251, 61262, 61269, 61280, 61281, 61287, 61293, 61294, 61295, 61306, 61322, 61347, 61350, 61388, 61415, 61432, 61433, 61434, 61435, 61460, 61464, 61473, 61474, 61478, 61489, 61494, 61498, 61507, 61518, 61529, 61535, 61536, 61548, 61554, 61613, 61628, 61631, 61635, 61651, 61656, 61658, 61671, 61680, 61697, 61713, 61726, 61734, 61747, 61750, 61753, 61784, 61796, 61806, 61807, 61811, 61827, 61839, 61852, 61853, 61870, 61876, 61890, 61892, 61898, 61905, 61923, 61933, 61960, 61962, 61973, 62008, 62010, 62017, 62030, 62031, 62038, 62046, 62057, 62067, 62106, 62118, 62122, 62125, 62140, 62150, 62169, 62188, 62189, 62203, 62216, 62230, 62263, 62269, 62284, 62288, 62290, 62294, 62305, 62329, 62332, 62337, 62347, 62348, 62375, 62390, 62403, 62420, 62425, 62449, 62452, 62458, 62459, 62473, 62497, 62514, 62529, 62602, 62623, 62626, 62630, 62632, 62639, 62640, 62648, 62651, 62667, 62669, 62676, 62678, 62680, 62696, 62706, 62708, 62711, 62721, 62725, 62735, 62738, 62746, 62750, 62753, 62784, 62806, 62826, 62841, 62843, 62854, 62862, 62865, 62876, 62885, 62895, 62900, 62907, 62918, 62944, 62953, 62963, 62965, 62975, 62978, 62993, 63039, 63045, 63052, 63063, 63076, 63094, 63101, 63111, 63124, 63130, 63156, 63177, 63189, 63194, 63200, 63206, 63211, 63213, 63234, 63241, 63244, 63250, 63256, 63259, 63282, 63295, 63297, 63333, 63335, 63337, 63338, 63343, 63349, 63351, 63354, 63365, 63377, 63394, 63397, 63398, 63400, 63411, 63414, 63428, 63447, 63448, 63467, 63471, 63501, 63515, 63520, 63530, 63535, 63539, 63557, 63571, 63590, 63599, 63603, 63624, 63639, 63640, 63643, 63651, 63655, 63665, 63683, 63696, 63707, 63708, 63714, 63716, 63723, 63736, 63737, 63741, 63760, 63763, 63774, 63776, 63780, 63786, 63788, 63843, 63850, 63856, 63866, 63898, 63946, 63967, 63978, 63986, 63991, 64040, 64059, 64065, 64076, 64137, 64146, 64178, 64211, 64229, 64230, 64231, 64282, 64309, 64357, 64422, 64461, 64469, 64500, 64539, 64549, 64553, 64578, 64634, 64714, 64715, 64732, 64733, 64742, 64758, 64787, 64788, 64791, 64812, 64813, 64822, 64826, 64836, 64855, 64857, 64873, 64875, 64881, 64885, 64897, 64942, 64959, 64965, 64971, 64975, 64980, 64981, 64985, 64991, 65003, 65039, 65057, 65060, 65072, 65073, 65074, 65127, 65291, 65292, 65318, 65321, 65325, 65405, 65417, 65455, 65464, 65469, 65475, 65476, 65497, 65498, 65503, 65524, 65541, 65551, 65621, 65644, 65646, 65661, 65683, 65685, 65696, 65701, 65727, 65740, 65747, 65778, 65798, 65806, 65814, 65897, 65932, 65994, 66021, 66070, 66133, 66158, 66165, 66220, 66332, 66334, 66372, 66411, 66424, 66445, 66486, 66495, 66537, 66539, 66544, 66578, 66592, 66618, 66632, 66697, 66700, 66712, 66721, 66722, 66739, 66747, 66749, 66756, 66758, 66786, 66799, 66802, 66805, 66815, 66817, 66827, 66828, 66890, 66891, 66904, 66915, 66947, 66961, 66962, 66981, 66994, 66995, 67015, 67065, 67098, 67146, 67177, 67179, 67194, 67239, 67253, 67262, 67308, 67310, 67342, 67356, 67372, 67385, 67420, 67422, 67427, 67539, 67909, 67915, 67919, 67922, 67924, 67931, 67936, 67945, 67971, 68058, 68063, 68111, 68180, 68346, 68430, 68555, 68562, 68564, 68569, 68598, 68600, 68616, 68619, 68629, 68645, 68649, 68670, 68714, 68731, 68732, 68739, 68747, 68753, 68767, 68777, 68779, 68781, 68783, 68788, 68805, 68822, 68825, 68844, 68875, 68882]\n",
            "score Random Forest aprés entrainement:  0.9251523947750363\n"
          ]
        }
      ],
      "source": [
        "from sklearn.ensemble import RandomForestClassifier\n",
        "rf=RandomForestClassifier(n_estimators=100)\n",
        "preds=rf.fit(X_train_augmented, y_train_augmented)\n",
        "preds=rf.predict(X_test)\n",
        "print(preds)\n",
        "print(y_test)\n",
        "print(len(preds))\n",
        "count=0\n",
        "lda=[]\n",
        "for i in range(len(preds)):\n",
        "  if preds[i]==y_test[i]:\n",
        "    count+=1\n",
        "  else:\n",
        "    lda.append(i)\n",
        "print(count)\n",
        "print('lda',lda)\n",
        "print(\"score Random Forest aprés entrainement: \",count/len(preds))\n"
      ]
    },
    {
      "cell_type": "code",
      "execution_count": null,
      "metadata": {
        "colab": {
          "base_uri": "https://localhost:8080/"
        },
        "id": "NUoxt5mlKevj",
        "outputId": "13f22ff7-2471-4e89-a2bc-ab3a2a4cc380"
      },
      "outputs": [
        {
          "name": "stdout",
          "output_type": "stream",
          "text": [
            "8060\n",
            "5157\n",
            "4103\n"
          ]
        }
      ],
      "source": [
        "print(len(lsda))\n",
        "print(len(lda))\n",
        "count=0\n",
        "for i in range(len(lda)):\n",
        "  for j in range(len(lsda)):\n",
        "    if lda[i]==lsda[j]:\n",
        "      count+=1\n",
        "print(count)"
      ]
    },
    {
      "cell_type": "code",
      "execution_count": null,
      "metadata": {
        "colab": {
          "base_uri": "https://localhost:8080/",
          "height": 283
        },
        "id": "U75eN5RbV8l_",
        "outputId": "c3a7ea87-02ff-487e-8cd1-45dcc245dc7f"
      },
      "outputs": [
        {
          "name": "stdout",
          "output_type": "stream",
          "text": [
            "3\n",
            "8\n"
          ]
        },
        {
          "data": {
            "image/png": "[encoded data removed]",
            "text/plain": [
              "<Figure size 432x288 with 1 Axes>"
            ]
          },
          "metadata": {
            "needs_background": "light"
          },
          "output_type": "display_data"
        }
      ],
      "source": [
        "i=l[610]\n",
        "print(y_test[i])\n",
        "plot_digit(X_test[i])\n",
        "print(preds[i])\n"
      ]
    }
  ],
  "metadata": {
    "colab": {
      "provenance": []
    },
    "kernelspec": {
      "display_name": "jupvenv",
      "language": "python",
      "name": "python3"
    },
    "language_info": {
      "codemirror_mode": {
        "name": "ipython",
        "version": 3
      },
      "file_extension": ".py",
      "mimetype": "text/x-python",
      "name": "python",
      "nbconvert_exporter": "python",
      "pygments_lexer": "ipython3",
      "version": "3.10.11"
    }
  },
  "nbformat": 4,
  "nbformat_minor": 0
}
